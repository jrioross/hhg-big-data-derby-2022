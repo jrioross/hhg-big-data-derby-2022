{
 "cells": [
  {
   "cell_type": "code",
   "execution_count": 1,
   "id": "603c0fb5",
   "metadata": {},
   "outputs": [],
   "source": [
    "import pandas as pd\n",
    "import matplotlib.pyplot as plt\n",
    "import numpy as np\n",
    "import seaborn as sns\n",
    "\n",
    "%matplotlib inline"
   ]
  },
  {
   "cell_type": "markdown",
   "id": "9ad30d7f",
   "metadata": {},
   "source": [
    "Your challenge is to generate actionable, practical, and novel insights from horse tracking data that devises innovative and data-driven approaches to analyzing racing tactics, drafting strategies and path efficiency. There are several potential topics for participants to analyze.\n",
    "\n",
    "These include, but are not limited to:\n",
    "\n",
    "- Create a horse rating measuring expected finish position versus actual finish position. How does a horse’s expected finish position change through the running of a race? Does this metric rely solely on a horse’s own position or is it influenced by the position of competitors?\n",
    "- What are optimal racing strategies? Considering different venues, surfaces and race distances. Create a jockey rating based upon path efficiency?\n",
    "- Create a surface measure model which would rate the fairness of different paths on a racecourse that may be beneficial or harmful to finish position based. This may be a result of unknown barometric, weather or maintenance factors.\n",
    "- Create a model measuring the existence (or not) and relevance of a drafting benefit.\n",
    "- Create a model reveal optimal gait patterns. Does the model differ for such factors as age, distance, race section or surface?"
   ]
  },
  {
   "cell_type": "code",
   "execution_count": 2,
   "id": "ccd432ad",
   "metadata": {
    "scrolled": true
   },
   "outputs": [
    {
     "name": "stdout",
     "output_type": "stream",
     "text": [
      "<class 'pandas.core.frame.DataFrame'>\n",
      "RangeIndex: 2000 entries, 0 to 1999\n",
      "Data columns (total 10 columns):\n",
      " #   Column           Non-Null Count  Dtype \n",
      "---  ------           --------------  ----- \n",
      " 0   track_id         2000 non-null   object\n",
      " 1   race_date        2000 non-null   object\n",
      " 2   race_number      2000 non-null   int64 \n",
      " 3   distance_id      2000 non-null   int64 \n",
      " 4   course_type      2000 non-null   object\n",
      " 5   track_condition  2000 non-null   object\n",
      " 6   run_up_distance  2000 non-null   int64 \n",
      " 7   race_type        2000 non-null   object\n",
      " 8   purse            2000 non-null   int64 \n",
      " 9   post_time        2000 non-null   int64 \n",
      "dtypes: int64(5), object(5)\n",
      "memory usage: 156.4+ KB\n"
     ]
    }
   ],
   "source": [
    "races = pd.read_csv('data/nyra_race_table.csv')\n",
    "races.info()"
   ]
  },
  {
   "cell_type": "code",
   "execution_count": 3,
   "id": "8cccdc38",
   "metadata": {},
   "outputs": [
    {
     "name": "stdout",
     "output_type": "stream",
     "text": [
      "<class 'pandas.core.frame.DataFrame'>\n",
      "RangeIndex: 14915 entries, 0 to 14914\n",
      "Data columns (total 7 columns):\n",
      " #   Column          Non-Null Count  Dtype \n",
      "---  ------          --------------  ----- \n",
      " 0   track_id        14915 non-null  object\n",
      " 1   race_date       14915 non-null  object\n",
      " 2   race_number     14915 non-null  int64 \n",
      " 3   program_number  14915 non-null  object\n",
      " 4   weight_carried  14915 non-null  int64 \n",
      " 5   jockey          14915 non-null  object\n",
      " 6   odds            14915 non-null  int64 \n",
      "dtypes: int64(3), object(4)\n",
      "memory usage: 815.8+ KB\n"
     ]
    }
   ],
   "source": [
    "starts = pd.read_csv('data/nyra_start_table.csv')\n",
    "starts.info()"
   ]
  },
  {
   "cell_type": "code",
   "execution_count": 4,
   "id": "b3e18030",
   "metadata": {},
   "outputs": [
    {
     "name": "stdout",
     "output_type": "stream",
     "text": [
      "<class 'pandas.core.frame.DataFrame'>\n",
      "RangeIndex: 5228430 entries, 0 to 5228429\n",
      "Data columns (total 7 columns):\n",
      " #   Column          Dtype  \n",
      "---  ------          -----  \n",
      " 0   track_id        object \n",
      " 1   race_date       object \n",
      " 2   race_number     int64  \n",
      " 3   program_number  object \n",
      " 4   trakus_index    int64  \n",
      " 5   latitude        float64\n",
      " 6   longitude       float64\n",
      "dtypes: float64(2), int64(2), object(3)\n",
      "memory usage: 279.2+ MB\n"
     ]
    }
   ],
   "source": [
    "tracking = pd.read_csv('data/nyra_tracking_table.csv')\n",
    "tracking.info()"
   ]
  },
  {
   "cell_type": "code",
   "execution_count": 7,
   "id": "96076bc3",
   "metadata": {},
   "outputs": [
    {
     "name": "stdout",
     "output_type": "stream",
     "text": [
      "<class 'pandas.core.frame.DataFrame'>\n",
      "Int64Index: 14916 entries, 0 to 14915\n",
      "Data columns (total 7 columns):\n",
      " #   Column           Non-Null Count  Dtype \n",
      "---  ------           --------------  ----- \n",
      " 0   track_id         14916 non-null  object\n",
      " 1   race_date        14916 non-null  object\n",
      " 2   race_number      14916 non-null  int64 \n",
      " 3   program_number   14916 non-null  object\n",
      " 4   horse_id         14916 non-null  int64 \n",
      " 5   finishing_place  14916 non-null  int64 \n",
      " 6   horse_name       14916 non-null  object\n",
      "dtypes: int64(3), object(4)\n",
      "memory usage: 932.2+ KB\n"
     ]
    }
   ],
   "source": [
    "h_id = pd.read_csv('data/horse_ids.csv')\n",
    "h_id = h_id[['track_id', 'race_date', 'race', 'program_number', 'horse_id', 'finishing_place']]\n",
    "h_names = pd.read_csv('data/horse_names.csv')\n",
    "h_names = h_names[['horse_id', 'horse_name']]\n",
    "horses = pd.merge(h_id, h_names, how='left', on='horse_id')\n",
    "horses = horses.rename(columns = {'race' : 'race_number'})\n",
    "horses.info()"
   ]
  },
  {
   "cell_type": "code",
   "execution_count": 8,
   "id": "367eee87",
   "metadata": {},
   "outputs": [
    {
     "name": "stdout",
     "output_type": "stream",
     "text": [
      "<class 'pandas.core.frame.DataFrame'>\n",
      "RangeIndex: 14915 entries, 0 to 14914\n",
      "Data columns (total 7 columns):\n",
      " #   Column          Non-Null Count  Dtype         \n",
      "---  ------          --------------  -----         \n",
      " 0   track_id        14915 non-null  object        \n",
      " 1   race_date       14915 non-null  datetime64[ns]\n",
      " 2   race_number     14915 non-null  int64         \n",
      " 3   program_number  14915 non-null  object        \n",
      " 4   weight_carried  14915 non-null  int64         \n",
      " 5   jockey          14915 non-null  object        \n",
      " 6   odds            14915 non-null  int64         \n",
      "dtypes: datetime64[ns](1), int64(3), object(3)\n",
      "memory usage: 815.8+ KB\n"
     ]
    }
   ],
   "source": [
    "starts['race_date'] = pd.to_datetime(starts['race_date'])\n",
    "starts.info()"
   ]
  },
  {
   "cell_type": "code",
   "execution_count": 9,
   "id": "b29fba53",
   "metadata": {},
   "outputs": [
    {
     "name": "stdout",
     "output_type": "stream",
     "text": [
      "<class 'pandas.core.frame.DataFrame'>\n",
      "Int64Index: 14916 entries, 0 to 14915\n",
      "Data columns (total 7 columns):\n",
      " #   Column           Non-Null Count  Dtype         \n",
      "---  ------           --------------  -----         \n",
      " 0   track_id         14916 non-null  object        \n",
      " 1   race_date        14916 non-null  datetime64[ns]\n",
      " 2   race_number      14916 non-null  int64         \n",
      " 3   program_number   14916 non-null  object        \n",
      " 4   horse_id         14916 non-null  int64         \n",
      " 5   finishing_place  14916 non-null  int64         \n",
      " 6   horse_name       14916 non-null  object        \n",
      "dtypes: datetime64[ns](1), int64(3), object(3)\n",
      "memory usage: 932.2+ KB\n"
     ]
    }
   ],
   "source": [
    "horses['race_date'] = pd.to_datetime(horses['race_date'])\n",
    "horses.info()"
   ]
  },
  {
   "cell_type": "code",
   "execution_count": 10,
   "id": "6c62df14",
   "metadata": {},
   "outputs": [
    {
     "data": {
      "text/html": [
       "<div>\n",
       "<style scoped>\n",
       "    .dataframe tbody tr th:only-of-type {\n",
       "        vertical-align: middle;\n",
       "    }\n",
       "\n",
       "    .dataframe tbody tr th {\n",
       "        vertical-align: top;\n",
       "    }\n",
       "\n",
       "    .dataframe thead th {\n",
       "        text-align: right;\n",
       "    }\n",
       "</style>\n",
       "<table border=\"1\" class=\"dataframe\">\n",
       "  <thead>\n",
       "    <tr style=\"text-align: right;\">\n",
       "      <th></th>\n",
       "      <th>track_id</th>\n",
       "      <th>race_date</th>\n",
       "      <th>race_number</th>\n",
       "      <th>program_number</th>\n",
       "      <th>weight_carried</th>\n",
       "      <th>jockey</th>\n",
       "      <th>odds</th>\n",
       "    </tr>\n",
       "  </thead>\n",
       "  <tbody>\n",
       "    <tr>\n",
       "      <th>min</th>\n",
       "      <td>AQU</td>\n",
       "      <td>2019-01-01</td>\n",
       "      <td>1</td>\n",
       "      <td>1</td>\n",
       "      <td>110</td>\n",
       "      <td>Abner Adorno</td>\n",
       "      <td>0</td>\n",
       "    </tr>\n",
       "    <tr>\n",
       "      <th>max</th>\n",
       "      <td>SAR</td>\n",
       "      <td>2019-12-31</td>\n",
       "      <td>13</td>\n",
       "      <td>9</td>\n",
       "      <td>160</td>\n",
       "      <td>Winston R. Kay</td>\n",
       "      <td>19100</td>\n",
       "    </tr>\n",
       "  </tbody>\n",
       "</table>\n",
       "</div>"
      ],
      "text/plain": [
       "    track_id  race_date  race_number program_number  weight_carried  \\\n",
       "min      AQU 2019-01-01            1            1               110   \n",
       "max      SAR 2019-12-31           13            9               160   \n",
       "\n",
       "             jockey   odds  \n",
       "min    Abner Adorno      0  \n",
       "max  Winston R. Kay  19100  "
      ]
     },
     "execution_count": 10,
     "metadata": {},
     "output_type": "execute_result"
    }
   ],
   "source": [
    "starts.agg(['min', 'max'])"
   ]
  },
  {
   "cell_type": "code",
   "execution_count": 11,
   "id": "c0d6a964",
   "metadata": {
    "scrolled": false
   },
   "outputs": [
    {
     "name": "stdout",
     "output_type": "stream",
     "text": [
      "<class 'pandas.core.frame.DataFrame'>\n",
      "Int64Index: 14916 entries, 0 to 14915\n",
      "Data columns (total 10 columns):\n",
      " #   Column           Non-Null Count  Dtype         \n",
      "---  ------           --------------  -----         \n",
      " 0   track_id         14916 non-null  object        \n",
      " 1   race_date        14916 non-null  datetime64[ns]\n",
      " 2   race_number      14916 non-null  int64         \n",
      " 3   program_number   14916 non-null  object        \n",
      " 4   weight_carried   14915 non-null  float64       \n",
      " 5   jockey           14915 non-null  object        \n",
      " 6   odds             14915 non-null  float64       \n",
      " 7   horse_id         14916 non-null  int64         \n",
      " 8   finishing_place  14916 non-null  int64         \n",
      " 9   horse_name       14916 non-null  object        \n",
      "dtypes: datetime64[ns](1), float64(2), int64(3), object(4)\n",
      "memory usage: 1.3+ MB\n"
     ]
    }
   ],
   "source": [
    "starts['program_number'] = starts['program_number'].str.strip()\n",
    "starts_h = pd.merge(starts, horses, how='outer', on=['track_id', 'race_date', 'race_number', 'program_number'])\n",
    "starts_h.info()"
   ]
  },
  {
   "cell_type": "code",
   "execution_count": 12,
   "id": "ff8f0618",
   "metadata": {},
   "outputs": [
    {
     "data": {
      "text/html": [
       "<div>\n",
       "<style scoped>\n",
       "    .dataframe tbody tr th:only-of-type {\n",
       "        vertical-align: middle;\n",
       "    }\n",
       "\n",
       "    .dataframe tbody tr th {\n",
       "        vertical-align: top;\n",
       "    }\n",
       "\n",
       "    .dataframe thead th {\n",
       "        text-align: right;\n",
       "    }\n",
       "</style>\n",
       "<table border=\"1\" class=\"dataframe\">\n",
       "  <thead>\n",
       "    <tr style=\"text-align: right;\">\n",
       "      <th></th>\n",
       "      <th>track_id</th>\n",
       "      <th>race_date</th>\n",
       "      <th>race_number</th>\n",
       "      <th>program_number</th>\n",
       "      <th>weight_carried</th>\n",
       "      <th>jockey</th>\n",
       "      <th>odds</th>\n",
       "      <th>horse_id</th>\n",
       "      <th>finishing_place</th>\n",
       "      <th>horse_name</th>\n",
       "    </tr>\n",
       "  </thead>\n",
       "  <tbody>\n",
       "    <tr>\n",
       "      <th>14915</th>\n",
       "      <td>BEL</td>\n",
       "      <td>2019-05-27</td>\n",
       "      <td>9</td>\n",
       "      <td>10</td>\n",
       "      <td>NaN</td>\n",
       "      <td>NaN</td>\n",
       "      <td>NaN</td>\n",
       "      <td>33</td>\n",
       "      <td>9</td>\n",
       "      <td>Stone Breaker</td>\n",
       "    </tr>\n",
       "  </tbody>\n",
       "</table>\n",
       "</div>"
      ],
      "text/plain": [
       "      track_id  race_date  race_number program_number  weight_carried jockey  \\\n",
       "14915      BEL 2019-05-27            9             10             NaN    NaN   \n",
       "\n",
       "       odds  horse_id  finishing_place     horse_name  \n",
       "14915   NaN        33                9  Stone Breaker  "
      ]
     },
     "execution_count": 12,
     "metadata": {},
     "output_type": "execute_result"
    }
   ],
   "source": [
    "starts_h.loc[starts_h['odds'].isnull()]"
   ]
  },
  {
   "cell_type": "code",
   "execution_count": 13,
   "id": "0e5e427b",
   "metadata": {},
   "outputs": [
    {
     "data": {
      "image/png": "[encoded data removed]",
      "text/plain": [
       "<Figure size 975.7x432 with 3 Axes>"
      ]
     },
     "metadata": {
      "needs_background": "light"
     },
     "output_type": "display_data"
    }
   ],
   "source": [
    "r_type = sns.catplot(y=\"race_type\", hue=\"course_type\", col=\"track_id\",\n",
    "                data=races, kind=\"count\",\n",
    "                height=6, aspect=.7);\n",
    "r_type.set_axis_labels(\"Count\", \"Race Type\");"
   ]
  },
  {
   "cell_type": "code",
   "execution_count": 14,
   "id": "63360ef9",
   "metadata": {
    "scrolled": true
   },
   "outputs": [
    {
     "data": {
      "image/png": "[encoded data removed]",
      "text/plain": [
       "<Figure size 975.7x432 with 3 Axes>"
      ]
     },
     "metadata": {
      "needs_background": "light"
     },
     "output_type": "display_data"
    }
   ],
   "source": [
    "r_dist = sns.catplot(y=\"distance_id\", hue=\"course_type\", col=\"track_id\",\n",
    "                data=races, kind=\"count\",\n",
    "                height=6, aspect=.7);\n",
    "r_dist.set_axis_labels(\"Count\", \"Distance ID\");"
   ]
  },
  {
   "cell_type": "code",
   "execution_count": 15,
   "id": "66930641",
   "metadata": {},
   "outputs": [
    {
     "data": {
      "image/png": "[encoded data removed]",
      "text/plain": [
       "<Figure size 991.825x432 with 3 Axes>"
      ]
     },
     "metadata": {
      "needs_background": "light"
     },
     "output_type": "display_data"
    }
   ],
   "source": [
    "surface = sns.catplot(y=\"course_type\", hue=\"track_condition\", col=\"track_id\",\n",
    "                data=races, kind=\"count\",\n",
    "                height=6, aspect=.7);\n",
    "surface.set_axis_labels(\"Count\", \"Race Type\");"
   ]
  },
  {
   "cell_type": "code",
   "execution_count": 16,
   "id": "c6305ed3",
   "metadata": {},
   "outputs": [
    {
     "data": {
      "text/plain": [
       "600     0.2725\n",
       "800     0.2010\n",
       "850     0.1245\n",
       "700     0.1210\n",
       "650     0.0980\n",
       "900     0.0690\n",
       "550     0.0655\n",
       "1000    0.0120\n",
       "1100    0.0105\n",
       "500     0.0090\n",
       "950     0.0050\n",
       "1200    0.0050\n",
       "1650    0.0025\n",
       "450     0.0010\n",
       "1900    0.0010\n",
       "1600    0.0005\n",
       "1800    0.0005\n",
       "2000    0.0005\n",
       "1050    0.0005\n",
       "1400    0.0005\n",
       "Name: distance_id, dtype: float64"
      ]
     },
     "execution_count": 16,
     "metadata": {},
     "output_type": "execute_result"
    }
   ],
   "source": [
    "races['distance_id'].value_counts(normalize=True)"
   ]
  },
  {
   "cell_type": "code",
   "execution_count": 17,
   "id": "e307e638",
   "metadata": {},
   "outputs": [
    {
     "data": {
      "text/plain": [
       "D    0.6755\n",
       "T    0.1620\n",
       "I    0.1245\n",
       "O    0.0335\n",
       "M    0.0045\n",
       "Name: course_type, dtype: float64"
      ]
     },
     "execution_count": 17,
     "metadata": {},
     "output_type": "execute_result"
    }
   ],
   "source": [
    "races['course_type'].value_counts(normalize=True)"
   ]
  },
  {
   "cell_type": "code",
   "execution_count": 18,
   "id": "b0c7674f",
   "metadata": {},
   "outputs": [
    {
     "data": {
      "text/html": [
       "<div>\n",
       "<style scoped>\n",
       "    .dataframe tbody tr th:only-of-type {\n",
       "        vertical-align: middle;\n",
       "    }\n",
       "\n",
       "    .dataframe tbody tr th {\n",
       "        vertical-align: top;\n",
       "    }\n",
       "\n",
       "    .dataframe thead th {\n",
       "        text-align: right;\n",
       "    }\n",
       "</style>\n",
       "<table border=\"1\" class=\"dataframe\">\n",
       "  <thead>\n",
       "    <tr style=\"text-align: right;\">\n",
       "      <th></th>\n",
       "      <th>track_id</th>\n",
       "      <th>race_date</th>\n",
       "      <th>race_number</th>\n",
       "      <th>program_number</th>\n",
       "      <th>weight_carried</th>\n",
       "      <th>jockey</th>\n",
       "      <th>odds</th>\n",
       "      <th>horse_id</th>\n",
       "      <th>finishing_place</th>\n",
       "      <th>horse_name</th>\n",
       "    </tr>\n",
       "  </thead>\n",
       "  <tbody>\n",
       "    <tr>\n",
       "      <th>0</th>\n",
       "      <td>AQU</td>\n",
       "      <td>2019-01-01</td>\n",
       "      <td>1</td>\n",
       "      <td>1</td>\n",
       "      <td>123.0</td>\n",
       "      <td>Dylan Davis</td>\n",
       "      <td>130.0</td>\n",
       "      <td>1</td>\n",
       "      <td>2</td>\n",
       "      <td>Sounds Delicious</td>\n",
       "    </tr>\n",
       "    <tr>\n",
       "      <th>1</th>\n",
       "      <td>AQU</td>\n",
       "      <td>2019-01-01</td>\n",
       "      <td>1</td>\n",
       "      <td>2</td>\n",
       "      <td>120.0</td>\n",
       "      <td>Junior Alvarado</td>\n",
       "      <td>295.0</td>\n",
       "      <td>2</td>\n",
       "      <td>3</td>\n",
       "      <td>Crimson Frost</td>\n",
       "    </tr>\n",
       "  </tbody>\n",
       "</table>\n",
       "</div>"
      ],
      "text/plain": [
       "  track_id  race_date  race_number program_number  weight_carried  \\\n",
       "0      AQU 2019-01-01            1              1           123.0   \n",
       "1      AQU 2019-01-01            1              2           120.0   \n",
       "\n",
       "            jockey   odds  horse_id  finishing_place        horse_name  \n",
       "0      Dylan Davis  130.0         1                2  Sounds Delicious  \n",
       "1  Junior Alvarado  295.0         2                3     Crimson Frost  "
      ]
     },
     "execution_count": 18,
     "metadata": {},
     "output_type": "execute_result"
    }
   ],
   "source": [
    "starts_h.head(2)"
   ]
  },
  {
   "cell_type": "code",
   "execution_count": 26,
   "id": "bd022103",
   "metadata": {},
   "outputs": [
    {
     "data": {
      "image/png": "[encoded data removed]",
      "text/plain": [
       "<Figure size 907.2x432 with 3 Axes>"
      ]
     },
     "metadata": {
      "needs_background": "light"
     },
     "output_type": "display_data"
    }
   ],
   "source": [
    "odds_placing = sns.catplot(y=\"odds\", x=\"finishing_place\", col=\"track_id\",\n",
    "                data=starts_h, kind=\"strip\",\n",
    "                height=6, aspect=.7)\n",
    "odds_placing.set_axis_labels(\"Finishing Place\", \"Odds\");"
   ]
  },
  {
   "cell_type": "code",
   "execution_count": 74,
   "id": "10bcf76c",
   "metadata": {},
   "outputs": [
    {
     "name": "stdout",
     "output_type": "stream",
     "text": [
      "<class 'pandas.core.frame.DataFrame'>\n",
      "Int64Index: 14843 entries, 0 to 14915\n",
      "Data columns (total 17 columns):\n",
      " #   Column           Non-Null Count  Dtype         \n",
      "---  ------           --------------  -----         \n",
      " 0   track_id         14843 non-null  object        \n",
      " 1   race_date        14843 non-null  datetime64[ns]\n",
      " 2   race_number      14843 non-null  int64         \n",
      " 3   program_number   14843 non-null  object        \n",
      " 4   weight_carried   14842 non-null  float64       \n",
      " 5   jockey           14842 non-null  object        \n",
      " 6   odds             14842 non-null  float64       \n",
      " 7   horse_id         14843 non-null  int64         \n",
      " 8   finishing_place  14843 non-null  int64         \n",
      " 9   horse_name       14843 non-null  object        \n",
      " 10  distance_id      14843 non-null  int64         \n",
      " 11  course_type      14843 non-null  object        \n",
      " 12  track_condition  14843 non-null  object        \n",
      " 13  run_up_distance  14843 non-null  int64         \n",
      " 14  race_type        14843 non-null  object        \n",
      " 15  purse            14843 non-null  int64         \n",
      " 16  post_time        14843 non-null  int64         \n",
      "dtypes: datetime64[ns](1), float64(2), int64(7), object(7)\n",
      "memory usage: 2.0+ MB\n"
     ]
    }
   ],
   "source": [
    "races['race_date'] = pd.to_datetime(races['race_date'])\n",
    "ra_st_h = pd.merge(starts_h, races, how='left', on=['track_id', 'race_date', 'race_number'])\n",
    "ra_st_h = ra_st_h.loc[ra_st_h['course_type'] != 'M']\n",
    "ra_st_h.info()"
   ]
  },
  {
   "cell_type": "code",
   "execution_count": 75,
   "id": "906b3bfa",
   "metadata": {},
   "outputs": [
    {
     "data": {
      "text/plain": [
       "D    9468\n",
       "T    2776\n",
       "I    1980\n",
       "O     619\n",
       "Name: course_type, dtype: int64"
      ]
     },
     "execution_count": 75,
     "metadata": {},
     "output_type": "execute_result"
    }
   ],
   "source": [
    "ra_st_h['course_type'].value_counts()"
   ]
  },
  {
   "cell_type": "code",
   "execution_count": 76,
   "id": "f51d0302",
   "metadata": {},
   "outputs": [
    {
     "data": {
      "text/plain": [
       "2     1991\n",
       "3     1991\n",
       "1     1991\n",
       "4     1983\n",
       "5     1936\n",
       "6     1688\n",
       "7     1254\n",
       "8      867\n",
       "9      574\n",
       "10     314\n",
       "11     157\n",
       "12      88\n",
       "13       7\n",
       "14       2\n",
       "Name: finishing_place, dtype: int64"
      ]
     },
     "execution_count": 76,
     "metadata": {},
     "output_type": "execute_result"
    }
   ],
   "source": [
    "ra_st_h['finishing_place'].value_counts()"
   ]
  },
  {
   "cell_type": "code",
   "execution_count": 77,
   "id": "bd8b8ffa",
   "metadata": {},
   "outputs": [
    {
     "name": "stdout",
     "output_type": "stream",
     "text": [
      "<class 'pandas.core.frame.DataFrame'>\n",
      "Int64Index: 5973 entries, 0 to 14910\n",
      "Data columns (total 17 columns):\n",
      " #   Column           Non-Null Count  Dtype         \n",
      "---  ------           --------------  -----         \n",
      " 0   track_id         5973 non-null   object        \n",
      " 1   race_date        5973 non-null   datetime64[ns]\n",
      " 2   race_number      5973 non-null   int64         \n",
      " 3   program_number   5973 non-null   object        \n",
      " 4   weight_carried   5973 non-null   float64       \n",
      " 5   jockey           5973 non-null   object        \n",
      " 6   odds             5973 non-null   float64       \n",
      " 7   horse_id         5973 non-null   int64         \n",
      " 8   finishing_place  5973 non-null   int64         \n",
      " 9   horse_name       5973 non-null   object        \n",
      " 10  distance_id      5973 non-null   int64         \n",
      " 11  course_type      5973 non-null   object        \n",
      " 12  track_condition  5973 non-null   object        \n",
      " 13  run_up_distance  5973 non-null   int64         \n",
      " 14  race_type        5973 non-null   object        \n",
      " 15  purse            5973 non-null   int64         \n",
      " 16  post_time        5973 non-null   int64         \n",
      "dtypes: datetime64[ns](1), float64(2), int64(7), object(7)\n",
      "memory usage: 840.0+ KB\n"
     ]
    }
   ],
   "source": [
    "top_finish = ra_st_h.loc[ra_st_h['finishing_place'] <= 3]\n",
    "top_finish.info()"
   ]
  },
  {
   "cell_type": "code",
   "execution_count": 78,
   "id": "c059ddb8",
   "metadata": {
    "scrolled": true
   },
   "outputs": [
    {
     "data": {
      "image/png": "[encoded data removed]",
      "text/plain": [
       "<Figure size 1080x432 with 1 Axes>"
      ]
     },
     "metadata": {},
     "output_type": "display_data"
    }
   ],
   "source": [
    "sns.set(rc={\"figure.figsize\":(15, 6)})\n",
    "sns.boxplot(data=top_finish, x=\"odds\");"
   ]
  },
  {
   "cell_type": "code",
   "execution_count": 79,
   "id": "5ecae716",
   "metadata": {},
   "outputs": [
    {
     "data": {
      "text/html": [
       "<div>\n",
       "<style scoped>\n",
       "    .dataframe tbody tr th:only-of-type {\n",
       "        vertical-align: middle;\n",
       "    }\n",
       "\n",
       "    .dataframe tbody tr th {\n",
       "        vertical-align: top;\n",
       "    }\n",
       "\n",
       "    .dataframe thead th {\n",
       "        text-align: right;\n",
       "    }\n",
       "</style>\n",
       "<table border=\"1\" class=\"dataframe\">\n",
       "  <thead>\n",
       "    <tr style=\"text-align: right;\">\n",
       "      <th></th>\n",
       "      <th>index</th>\n",
       "      <th>odds</th>\n",
       "    </tr>\n",
       "  </thead>\n",
       "  <tbody>\n",
       "    <tr>\n",
       "      <th>0</th>\n",
       "      <td>count</td>\n",
       "      <td>5973.000000</td>\n",
       "    </tr>\n",
       "    <tr>\n",
       "      <th>1</th>\n",
       "      <td>mean</td>\n",
       "      <td>694.731291</td>\n",
       "    </tr>\n",
       "    <tr>\n",
       "      <th>2</th>\n",
       "      <td>std</td>\n",
       "      <td>909.558506</td>\n",
       "    </tr>\n",
       "    <tr>\n",
       "      <th>3</th>\n",
       "      <td>min</td>\n",
       "      <td>0.000000</td>\n",
       "    </tr>\n",
       "    <tr>\n",
       "      <th>4</th>\n",
       "      <td>25%</td>\n",
       "      <td>210.000000</td>\n",
       "    </tr>\n",
       "    <tr>\n",
       "      <th>5</th>\n",
       "      <td>50%</td>\n",
       "      <td>395.000000</td>\n",
       "    </tr>\n",
       "    <tr>\n",
       "      <th>6</th>\n",
       "      <td>75%</td>\n",
       "      <td>820.000000</td>\n",
       "    </tr>\n",
       "    <tr>\n",
       "      <th>7</th>\n",
       "      <td>max</td>\n",
       "      <td>12850.000000</td>\n",
       "    </tr>\n",
       "  </tbody>\n",
       "</table>\n",
       "</div>"
      ],
      "text/plain": [
       "   index          odds\n",
       "0  count   5973.000000\n",
       "1   mean    694.731291\n",
       "2    std    909.558506\n",
       "3    min      0.000000\n",
       "4    25%    210.000000\n",
       "5    50%    395.000000\n",
       "6    75%    820.000000\n",
       "7    max  12850.000000"
      ]
     },
     "execution_count": 79,
     "metadata": {},
     "output_type": "execute_result"
    }
   ],
   "source": [
    "top_stats = top_finish['odds'].describe().to_frame().reset_index()\n",
    "top_stats"
   ]
  },
  {
   "cell_type": "code",
   "execution_count": 80,
   "id": "64182294",
   "metadata": {},
   "outputs": [
    {
     "data": {
      "text/plain": [
       "1735.0"
      ]
     },
     "execution_count": 80,
     "metadata": {},
     "output_type": "execute_result"
    }
   ],
   "source": [
    "iqr = (top_stats.loc[top_stats[\"index\"] == '75%', \"odds\"].values[0]) - (top_stats.loc[top_stats[\"index\"] == '25%', 'odds'].values[0])\n",
    "outlier = (top_stats.loc[top_stats[\"index\"] == '75%', \"odds\"].values[0]) + 1.5*iqr\n",
    "outlier"
   ]
  },
  {
   "cell_type": "code",
   "execution_count": 81,
   "id": "c95d25e3",
   "metadata": {},
   "outputs": [
    {
     "name": "stdout",
     "output_type": "stream",
     "text": [
      "<class 'pandas.core.frame.DataFrame'>\n",
      "Int64Index: 495 entries, 54 to 14905\n",
      "Data columns (total 17 columns):\n",
      " #   Column           Non-Null Count  Dtype         \n",
      "---  ------           --------------  -----         \n",
      " 0   track_id         495 non-null    object        \n",
      " 1   race_date        495 non-null    datetime64[ns]\n",
      " 2   race_number      495 non-null    int64         \n",
      " 3   program_number   495 non-null    object        \n",
      " 4   weight_carried   495 non-null    float64       \n",
      " 5   jockey           495 non-null    object        \n",
      " 6   odds             495 non-null    float64       \n",
      " 7   horse_id         495 non-null    int64         \n",
      " 8   finishing_place  495 non-null    int64         \n",
      " 9   horse_name       495 non-null    object        \n",
      " 10  distance_id      495 non-null    int64         \n",
      " 11  course_type      495 non-null    object        \n",
      " 12  track_condition  495 non-null    object        \n",
      " 13  run_up_distance  495 non-null    int64         \n",
      " 14  race_type        495 non-null    object        \n",
      " 15  purse            495 non-null    int64         \n",
      " 16  post_time        495 non-null    int64         \n",
      "dtypes: datetime64[ns](1), float64(2), int64(7), object(7)\n",
      "memory usage: 69.6+ KB\n"
     ]
    }
   ],
   "source": [
    "long_odds = ra_st_h.loc[(ra_st_h['finishing_place'] <= 3) & (ra_st_h['odds'] > outlier)]\n",
    "long_odds.info()"
   ]
  },
  {
   "cell_type": "code",
   "execution_count": 82,
   "id": "23c2869a",
   "metadata": {
    "scrolled": true
   },
   "outputs": [
    {
     "data": {
      "text/html": [
       "<div>\n",
       "<style scoped>\n",
       "    .dataframe tbody tr th:only-of-type {\n",
       "        vertical-align: middle;\n",
       "    }\n",
       "\n",
       "    .dataframe tbody tr th {\n",
       "        vertical-align: top;\n",
       "    }\n",
       "\n",
       "    .dataframe thead th {\n",
       "        text-align: right;\n",
       "    }\n",
       "</style>\n",
       "<table border=\"1\" class=\"dataframe\">\n",
       "  <thead>\n",
       "    <tr style=\"text-align: right;\">\n",
       "      <th></th>\n",
       "      <th>race_number</th>\n",
       "      <th>weight_carried</th>\n",
       "      <th>odds</th>\n",
       "      <th>horse_id</th>\n",
       "      <th>finishing_place</th>\n",
       "      <th>distance_id</th>\n",
       "      <th>run_up_distance</th>\n",
       "      <th>purse</th>\n",
       "      <th>post_time</th>\n",
       "    </tr>\n",
       "  </thead>\n",
       "  <tbody>\n",
       "    <tr>\n",
       "      <th>count</th>\n",
       "      <td>495.000000</td>\n",
       "      <td>495.000000</td>\n",
       "      <td>495.000000</td>\n",
       "      <td>495.000000</td>\n",
       "      <td>495.000000</td>\n",
       "      <td>495.000000</td>\n",
       "      <td>495.000000</td>\n",
       "      <td>4.950000e+02</td>\n",
       "      <td>495.000000</td>\n",
       "    </tr>\n",
       "    <tr>\n",
       "      <th>mean</th>\n",
       "      <td>5.711111</td>\n",
       "      <td>119.482828</td>\n",
       "      <td>3070.212121</td>\n",
       "      <td>1556.139394</td>\n",
       "      <td>2.343434</td>\n",
       "      <td>719.090909</td>\n",
       "      <td>64.527273</td>\n",
       "      <td>9.129939e+04</td>\n",
       "      <td>420.931313</td>\n",
       "    </tr>\n",
       "    <tr>\n",
       "      <th>std</th>\n",
       "      <td>2.924727</td>\n",
       "      <td>3.283379</td>\n",
       "      <td>1483.379309</td>\n",
       "      <td>1221.525564</td>\n",
       "      <td>0.736025</td>\n",
       "      <td>137.921903</td>\n",
       "      <td>34.033544</td>\n",
       "      <td>1.459486e+05</td>\n",
       "      <td>275.098450</td>\n",
       "    </tr>\n",
       "    <tr>\n",
       "      <th>min</th>\n",
       "      <td>1.000000</td>\n",
       "      <td>111.000000</td>\n",
       "      <td>1740.000000</td>\n",
       "      <td>2.000000</td>\n",
       "      <td>1.000000</td>\n",
       "      <td>450.000000</td>\n",
       "      <td>20.000000</td>\n",
       "      <td>1.600000e+04</td>\n",
       "      <td>100.000000</td>\n",
       "    </tr>\n",
       "    <tr>\n",
       "      <th>25%</th>\n",
       "      <td>3.000000</td>\n",
       "      <td>118.000000</td>\n",
       "      <td>2050.000000</td>\n",
       "      <td>537.000000</td>\n",
       "      <td>2.000000</td>\n",
       "      <td>600.000000</td>\n",
       "      <td>45.000000</td>\n",
       "      <td>4.100000e+04</td>\n",
       "      <td>231.500000</td>\n",
       "    </tr>\n",
       "    <tr>\n",
       "      <th>50%</th>\n",
       "      <td>6.000000</td>\n",
       "      <td>120.000000</td>\n",
       "      <td>2575.000000</td>\n",
       "      <td>1188.000000</td>\n",
       "      <td>3.000000</td>\n",
       "      <td>700.000000</td>\n",
       "      <td>54.000000</td>\n",
       "      <td>6.000000e+04</td>\n",
       "      <td>358.000000</td>\n",
       "    </tr>\n",
       "    <tr>\n",
       "      <th>75%</th>\n",
       "      <td>8.000000</td>\n",
       "      <td>122.000000</td>\n",
       "      <td>3537.500000</td>\n",
       "      <td>2295.000000</td>\n",
       "      <td>3.000000</td>\n",
       "      <td>800.000000</td>\n",
       "      <td>76.000000</td>\n",
       "      <td>7.600000e+04</td>\n",
       "      <td>515.000000</td>\n",
       "    </tr>\n",
       "    <tr>\n",
       "      <th>max</th>\n",
       "      <td>13.000000</td>\n",
       "      <td>128.000000</td>\n",
       "      <td>12850.000000</td>\n",
       "      <td>4628.000000</td>\n",
       "      <td>3.000000</td>\n",
       "      <td>1600.000000</td>\n",
       "      <td>280.000000</td>\n",
       "      <td>1.500000e+06</td>\n",
       "      <td>1256.000000</td>\n",
       "    </tr>\n",
       "  </tbody>\n",
       "</table>\n",
       "</div>"
      ],
      "text/plain": [
       "       race_number  weight_carried          odds     horse_id  \\\n",
       "count   495.000000      495.000000    495.000000   495.000000   \n",
       "mean      5.711111      119.482828   3070.212121  1556.139394   \n",
       "std       2.924727        3.283379   1483.379309  1221.525564   \n",
       "min       1.000000      111.000000   1740.000000     2.000000   \n",
       "25%       3.000000      118.000000   2050.000000   537.000000   \n",
       "50%       6.000000      120.000000   2575.000000  1188.000000   \n",
       "75%       8.000000      122.000000   3537.500000  2295.000000   \n",
       "max      13.000000      128.000000  12850.000000  4628.000000   \n",
       "\n",
       "       finishing_place  distance_id  run_up_distance         purse  \\\n",
       "count       495.000000   495.000000       495.000000  4.950000e+02   \n",
       "mean          2.343434   719.090909        64.527273  9.129939e+04   \n",
       "std           0.736025   137.921903        34.033544  1.459486e+05   \n",
       "min           1.000000   450.000000        20.000000  1.600000e+04   \n",
       "25%           2.000000   600.000000        45.000000  4.100000e+04   \n",
       "50%           3.000000   700.000000        54.000000  6.000000e+04   \n",
       "75%           3.000000   800.000000        76.000000  7.600000e+04   \n",
       "max           3.000000  1600.000000       280.000000  1.500000e+06   \n",
       "\n",
       "         post_time  \n",
       "count   495.000000  \n",
       "mean    420.931313  \n",
       "std     275.098450  \n",
       "min     100.000000  \n",
       "25%     231.500000  \n",
       "50%     358.000000  \n",
       "75%     515.000000  \n",
       "max    1256.000000  "
      ]
     },
     "execution_count": 82,
     "metadata": {},
     "output_type": "execute_result"
    }
   ],
   "source": [
    "long_odds.describe()"
   ]
  },
  {
   "cell_type": "code",
   "execution_count": 84,
   "id": "f3ea6292",
   "metadata": {},
   "outputs": [
    {
     "data": {
      "image/png": "[encoded data removed]",
      "text/plain": [
       "<Figure size 907.2x432 with 3 Axes>"
      ]
     },
     "metadata": {},
     "output_type": "display_data"
    }
   ],
   "source": [
    "l_odds_placing = sns.catplot(y=\"odds\", x=\"finishing_place\", col=\"track_id\",\n",
    "                data=long_odds, kind=\"strip\",\n",
    "                height=6, aspect=.7)\n",
    "l_odds_placing.set_axis_labels(\"Finishing Place\", \"Odds\");"
   ]
  },
  {
   "cell_type": "code",
   "execution_count": 86,
   "id": "a1898c66",
   "metadata": {},
   "outputs": [
    {
     "data": {
      "image/png": "[encoded data removed]",
      "text/plain": [
       "<Figure size 981.5x432 with 3 Axes>"
      ]
     },
     "metadata": {},
     "output_type": "display_data"
    }
   ],
   "source": [
    "lo_type = sns.catplot(y=\"race_type\", hue=\"course_type\", col=\"track_id\",\n",
    "                data=long_odds, kind=\"count\",\n",
    "                height=6, aspect=.7);\n",
    "lo_type.set_axis_labels(\"Count\", \"Race Type\");"
   ]
  },
  {
   "cell_type": "code",
   "execution_count": 92,
   "id": "1d7c613b",
   "metadata": {},
   "outputs": [
    {
     "data": {
      "text/plain": [
       "track_id  race_type\n",
       "AQU       MCL          0.269406\n",
       "          CLM          0.255708\n",
       "          MSW          0.168950\n",
       "          ALW          0.095890\n",
       "          STK          0.073059\n",
       "          AOC          0.068493\n",
       "          SOC          0.036530\n",
       "          SST          0.018265\n",
       "          STR          0.013699\n",
       "BEL       MCL          0.262570\n",
       "          CLM          0.201117\n",
       "          STK          0.184358\n",
       "          MSW          0.145251\n",
       "          ALW          0.100559\n",
       "          AOC          0.050279\n",
       "          STR          0.033520\n",
       "          WCL          0.011173\n",
       "          SOC          0.005587\n",
       "          WMC          0.005587\n",
       "SAR       MSW          0.298969\n",
       "          CLM          0.185567\n",
       "          MCL          0.164948\n",
       "          STK          0.164948\n",
       "          ALW          0.061856\n",
       "          AOC          0.061856\n",
       "          STR          0.041237\n",
       "          SOC          0.010309\n",
       "          WCL          0.010309\n",
       "Name: race_type, dtype: float64"
      ]
     },
     "execution_count": 92,
     "metadata": {},
     "output_type": "execute_result"
    }
   ],
   "source": [
    "long_odds.groupby('track_id')['race_type'].value_counts(normalize=True)"
   ]
  },
  {
   "cell_type": "code",
   "execution_count": 94,
   "id": "c52cba0a",
   "metadata": {
    "scrolled": true
   },
   "outputs": [
    {
     "data": {
      "text/plain": [
       "track_id  race_type\n",
       "AQU       CLM          0.261832\n",
       "          MCL          0.213859\n",
       "          MSW          0.179616\n",
       "          AOC          0.098853\n",
       "          STK          0.094654\n",
       "          ALW          0.091100\n",
       "          STR          0.029074\n",
       "          SOC          0.012922\n",
       "          SST          0.012114\n",
       "          WCL          0.004200\n",
       "          SHP          0.001777\n",
       "BEL       MSW          0.217777\n",
       "          CLM          0.209993\n",
       "          MCL          0.185735\n",
       "          STK          0.127082\n",
       "          ALW          0.105177\n",
       "          AOC          0.103548\n",
       "          STR          0.040369\n",
       "          WCL          0.004345\n",
       "          SOC          0.003802\n",
       "          WMC          0.002172\n",
       "SAR       MSW          0.280051\n",
       "          CLM          0.175192\n",
       "          STK          0.163683\n",
       "          MCL          0.111893\n",
       "          AOC          0.109335\n",
       "          ALW          0.105818\n",
       "          STR          0.044118\n",
       "          WCL          0.006074\n",
       "          SOC          0.003836\n",
       "Name: race_type, dtype: float64"
      ]
     },
     "execution_count": 94,
     "metadata": {},
     "output_type": "execute_result"
    }
   ],
   "source": [
    "ra_st_h.groupby('track_id')['race_type'].value_counts(normalize=True)"
   ]
  },
  {
   "cell_type": "code",
   "execution_count": 96,
   "id": "0bcf1c10",
   "metadata": {},
   "outputs": [
    {
     "data": {
      "image/png": "[encoded data removed]",
      "text/plain": [
       "<Figure size 996.375x432 with 3 Axes>"
      ]
     },
     "metadata": {},
     "output_type": "display_data"
    }
   ],
   "source": [
    "lo_surface = sns.catplot(y=\"course_type\", hue=\"track_condition\", col=\"track_id\",\n",
    "                data=long_odds, kind=\"count\",\n",
    "                height=6, aspect=.7);\n",
    "lo_surface.set_axis_labels(\"Count\", \"Race Type\");"
   ]
  },
  {
   "cell_type": "code",
   "execution_count": 113,
   "id": "fe9c80d2",
   "metadata": {
    "scrolled": true
   },
   "outputs": [
    {
     "data": {
      "text/html": [
       "<div>\n",
       "<style scoped>\n",
       "    .dataframe tbody tr th:only-of-type {\n",
       "        vertical-align: middle;\n",
       "    }\n",
       "\n",
       "    .dataframe tbody tr th {\n",
       "        vertical-align: top;\n",
       "    }\n",
       "\n",
       "    .dataframe thead th {\n",
       "        text-align: right;\n",
       "    }\n",
       "</style>\n",
       "<table border=\"1\" class=\"dataframe\">\n",
       "  <thead>\n",
       "    <tr style=\"text-align: right;\">\n",
       "      <th></th>\n",
       "      <th>track_id</th>\n",
       "      <th>track_condition</th>\n",
       "      <th>proportion</th>\n",
       "      <th>df_name</th>\n",
       "    </tr>\n",
       "  </thead>\n",
       "  <tbody>\n",
       "    <tr>\n",
       "      <th>0</th>\n",
       "      <td>AQU</td>\n",
       "      <td>FT</td>\n",
       "      <td>0.621005</td>\n",
       "      <td>lo_cond</td>\n",
       "    </tr>\n",
       "    <tr>\n",
       "      <th>1</th>\n",
       "      <td>AQU</td>\n",
       "      <td>GD</td>\n",
       "      <td>0.132420</td>\n",
       "      <td>lo_cond</td>\n",
       "    </tr>\n",
       "    <tr>\n",
       "      <th>2</th>\n",
       "      <td>AQU</td>\n",
       "      <td>FM</td>\n",
       "      <td>0.100457</td>\n",
       "      <td>lo_cond</td>\n",
       "    </tr>\n",
       "    <tr>\n",
       "      <th>3</th>\n",
       "      <td>AQU</td>\n",
       "      <td>SY</td>\n",
       "      <td>0.082192</td>\n",
       "      <td>lo_cond</td>\n",
       "    </tr>\n",
       "    <tr>\n",
       "      <th>4</th>\n",
       "      <td>AQU</td>\n",
       "      <td>MY</td>\n",
       "      <td>0.059361</td>\n",
       "      <td>lo_cond</td>\n",
       "    </tr>\n",
       "    <tr>\n",
       "      <th>5</th>\n",
       "      <td>AQU</td>\n",
       "      <td>YL</td>\n",
       "      <td>0.004566</td>\n",
       "      <td>lo_cond</td>\n",
       "    </tr>\n",
       "    <tr>\n",
       "      <th>6</th>\n",
       "      <td>BEL</td>\n",
       "      <td>FT</td>\n",
       "      <td>0.407821</td>\n",
       "      <td>lo_cond</td>\n",
       "    </tr>\n",
       "    <tr>\n",
       "      <th>7</th>\n",
       "      <td>BEL</td>\n",
       "      <td>FM</td>\n",
       "      <td>0.307263</td>\n",
       "      <td>lo_cond</td>\n",
       "    </tr>\n",
       "    <tr>\n",
       "      <th>8</th>\n",
       "      <td>BEL</td>\n",
       "      <td>GD</td>\n",
       "      <td>0.178771</td>\n",
       "      <td>lo_cond</td>\n",
       "    </tr>\n",
       "    <tr>\n",
       "      <th>9</th>\n",
       "      <td>BEL</td>\n",
       "      <td>SY</td>\n",
       "      <td>0.061453</td>\n",
       "      <td>lo_cond</td>\n",
       "    </tr>\n",
       "    <tr>\n",
       "      <th>10</th>\n",
       "      <td>BEL</td>\n",
       "      <td>MY</td>\n",
       "      <td>0.022346</td>\n",
       "      <td>lo_cond</td>\n",
       "    </tr>\n",
       "    <tr>\n",
       "      <th>11</th>\n",
       "      <td>BEL</td>\n",
       "      <td>SF</td>\n",
       "      <td>0.011173</td>\n",
       "      <td>lo_cond</td>\n",
       "    </tr>\n",
       "    <tr>\n",
       "      <th>12</th>\n",
       "      <td>BEL</td>\n",
       "      <td>YL</td>\n",
       "      <td>0.011173</td>\n",
       "      <td>lo_cond</td>\n",
       "    </tr>\n",
       "    <tr>\n",
       "      <th>13</th>\n",
       "      <td>SAR</td>\n",
       "      <td>FM</td>\n",
       "      <td>0.422680</td>\n",
       "      <td>lo_cond</td>\n",
       "    </tr>\n",
       "    <tr>\n",
       "      <th>14</th>\n",
       "      <td>SAR</td>\n",
       "      <td>FT</td>\n",
       "      <td>0.422680</td>\n",
       "      <td>lo_cond</td>\n",
       "    </tr>\n",
       "    <tr>\n",
       "      <th>15</th>\n",
       "      <td>SAR</td>\n",
       "      <td>GD</td>\n",
       "      <td>0.072165</td>\n",
       "      <td>lo_cond</td>\n",
       "    </tr>\n",
       "    <tr>\n",
       "      <th>16</th>\n",
       "      <td>SAR</td>\n",
       "      <td>SY</td>\n",
       "      <td>0.051546</td>\n",
       "      <td>lo_cond</td>\n",
       "    </tr>\n",
       "    <tr>\n",
       "      <th>17</th>\n",
       "      <td>SAR</td>\n",
       "      <td>MY</td>\n",
       "      <td>0.020619</td>\n",
       "      <td>lo_cond</td>\n",
       "    </tr>\n",
       "    <tr>\n",
       "      <th>18</th>\n",
       "      <td>SAR</td>\n",
       "      <td>YL</td>\n",
       "      <td>0.010309</td>\n",
       "      <td>lo_cond</td>\n",
       "    </tr>\n",
       "  </tbody>\n",
       "</table>\n",
       "</div>"
      ],
      "text/plain": [
       "   track_id track_condition  proportion  df_name\n",
       "0       AQU             FT     0.621005  lo_cond\n",
       "1       AQU             GD     0.132420  lo_cond\n",
       "2       AQU             FM     0.100457  lo_cond\n",
       "3       AQU             SY     0.082192  lo_cond\n",
       "4       AQU             MY     0.059361  lo_cond\n",
       "5       AQU             YL     0.004566  lo_cond\n",
       "6       BEL             FT     0.407821  lo_cond\n",
       "7       BEL             FM     0.307263  lo_cond\n",
       "8       BEL             GD     0.178771  lo_cond\n",
       "9       BEL             SY     0.061453  lo_cond\n",
       "10      BEL             MY     0.022346  lo_cond\n",
       "11      BEL             SF     0.011173  lo_cond\n",
       "12      BEL             YL     0.011173  lo_cond\n",
       "13      SAR             FM     0.422680  lo_cond\n",
       "14      SAR             FT     0.422680  lo_cond\n",
       "15      SAR             GD     0.072165  lo_cond\n",
       "16      SAR             SY     0.051546  lo_cond\n",
       "17      SAR             MY     0.020619  lo_cond\n",
       "18      SAR             YL     0.010309  lo_cond"
      ]
     },
     "execution_count": 113,
     "metadata": {},
     "output_type": "execute_result"
    }
   ],
   "source": [
    "lo_cond = long_odds.groupby('track_id')['track_condition'].value_counts(normalize=True).to_frame()\n",
    "lo_cond.columns = ['proportion']\n",
    "lo_cond = lo_cond.reset_index()\n",
    "lo_cond['df_name'] = 'lo_cond'\n",
    "lo_cond"
   ]
  },
  {
   "cell_type": "code",
   "execution_count": 115,
   "id": "ab624850",
   "metadata": {},
   "outputs": [
    {
     "data": {
      "image/png": "[encoded data removed]",
      "text/plain": [
       "<Figure size 907.2x432 with 3 Axes>"
      ]
     },
     "metadata": {},
     "output_type": "display_data"
    }
   ],
   "source": [
    "lo_co = sns.catplot(x=\"track_condition\", y=\"proportion\", hue=\"track_condition\", col=\"track_id\",\n",
    "                data=lo_cond, kind=\"bar\",\n",
    "                height=6, aspect=.7)\n",
    "lo_co.set_axis_labels(\"Track Condition\", \"Proportion of Races\");"
   ]
  },
  {
   "cell_type": "code",
   "execution_count": 122,
   "id": "dd40e67f",
   "metadata": {},
   "outputs": [
    {
     "data": {
      "text/html": [
       "<div>\n",
       "<style scoped>\n",
       "    .dataframe tbody tr th:only-of-type {\n",
       "        vertical-align: middle;\n",
       "    }\n",
       "\n",
       "    .dataframe tbody tr th {\n",
       "        vertical-align: top;\n",
       "    }\n",
       "\n",
       "    .dataframe thead th {\n",
       "        text-align: right;\n",
       "    }\n",
       "</style>\n",
       "<table border=\"1\" class=\"dataframe\">\n",
       "  <thead>\n",
       "    <tr style=\"text-align: right;\">\n",
       "      <th></th>\n",
       "      <th>track_id</th>\n",
       "      <th>track_condition</th>\n",
       "      <th>proportion</th>\n",
       "      <th>df_name</th>\n",
       "    </tr>\n",
       "  </thead>\n",
       "  <tbody>\n",
       "    <tr>\n",
       "      <th>0</th>\n",
       "      <td>AQU</td>\n",
       "      <td>FT</td>\n",
       "      <td>0.575997</td>\n",
       "      <td>r_cond</td>\n",
       "    </tr>\n",
       "    <tr>\n",
       "      <th>1</th>\n",
       "      <td>AQU</td>\n",
       "      <td>GD</td>\n",
       "      <td>0.141657</td>\n",
       "      <td>r_cond</td>\n",
       "    </tr>\n",
       "    <tr>\n",
       "      <th>2</th>\n",
       "      <td>AQU</td>\n",
       "      <td>FM</td>\n",
       "      <td>0.113067</td>\n",
       "      <td>r_cond</td>\n",
       "    </tr>\n",
       "    <tr>\n",
       "      <th>3</th>\n",
       "      <td>AQU</td>\n",
       "      <td>SY</td>\n",
       "      <td>0.112260</td>\n",
       "      <td>r_cond</td>\n",
       "    </tr>\n",
       "    <tr>\n",
       "      <th>4</th>\n",
       "      <td>AQU</td>\n",
       "      <td>MY</td>\n",
       "      <td>0.049427</td>\n",
       "      <td>r_cond</td>\n",
       "    </tr>\n",
       "    <tr>\n",
       "      <th>5</th>\n",
       "      <td>AQU</td>\n",
       "      <td>YL</td>\n",
       "      <td>0.007592</td>\n",
       "      <td>r_cond</td>\n",
       "    </tr>\n",
       "    <tr>\n",
       "      <th>6</th>\n",
       "      <td>BEL</td>\n",
       "      <td>FT</td>\n",
       "      <td>0.358255</td>\n",
       "      <td>r_cond</td>\n",
       "    </tr>\n",
       "    <tr>\n",
       "      <th>7</th>\n",
       "      <td>BEL</td>\n",
       "      <td>FM</td>\n",
       "      <td>0.349747</td>\n",
       "      <td>r_cond</td>\n",
       "    </tr>\n",
       "    <tr>\n",
       "      <th>8</th>\n",
       "      <td>BEL</td>\n",
       "      <td>GD</td>\n",
       "      <td>0.157676</td>\n",
       "      <td>r_cond</td>\n",
       "    </tr>\n",
       "    <tr>\n",
       "      <th>9</th>\n",
       "      <td>BEL</td>\n",
       "      <td>SY</td>\n",
       "      <td>0.092505</td>\n",
       "      <td>r_cond</td>\n",
       "    </tr>\n",
       "    <tr>\n",
       "      <th>10</th>\n",
       "      <td>BEL</td>\n",
       "      <td>MY</td>\n",
       "      <td>0.020275</td>\n",
       "      <td>r_cond</td>\n",
       "    </tr>\n",
       "    <tr>\n",
       "      <th>11</th>\n",
       "      <td>BEL</td>\n",
       "      <td>YL</td>\n",
       "      <td>0.019189</td>\n",
       "      <td>r_cond</td>\n",
       "    </tr>\n",
       "    <tr>\n",
       "      <th>12</th>\n",
       "      <td>BEL</td>\n",
       "      <td>SF</td>\n",
       "      <td>0.002353</td>\n",
       "      <td>r_cond</td>\n",
       "    </tr>\n",
       "    <tr>\n",
       "      <th>13</th>\n",
       "      <td>SAR</td>\n",
       "      <td>FT</td>\n",
       "      <td>0.440217</td>\n",
       "      <td>r_cond</td>\n",
       "    </tr>\n",
       "    <tr>\n",
       "      <th>14</th>\n",
       "      <td>SAR</td>\n",
       "      <td>FM</td>\n",
       "      <td>0.361573</td>\n",
       "      <td>r_cond</td>\n",
       "    </tr>\n",
       "    <tr>\n",
       "      <th>15</th>\n",
       "      <td>SAR</td>\n",
       "      <td>GD</td>\n",
       "      <td>0.088875</td>\n",
       "      <td>r_cond</td>\n",
       "    </tr>\n",
       "    <tr>\n",
       "      <th>16</th>\n",
       "      <td>SAR</td>\n",
       "      <td>SY</td>\n",
       "      <td>0.059143</td>\n",
       "      <td>r_cond</td>\n",
       "    </tr>\n",
       "    <tr>\n",
       "      <th>17</th>\n",
       "      <td>SAR</td>\n",
       "      <td>MY</td>\n",
       "      <td>0.027494</td>\n",
       "      <td>r_cond</td>\n",
       "    </tr>\n",
       "    <tr>\n",
       "      <th>18</th>\n",
       "      <td>SAR</td>\n",
       "      <td>YL</td>\n",
       "      <td>0.020780</td>\n",
       "      <td>r_cond</td>\n",
       "    </tr>\n",
       "    <tr>\n",
       "      <th>19</th>\n",
       "      <td>SAR</td>\n",
       "      <td>SF</td>\n",
       "      <td>0.001918</td>\n",
       "      <td>r_cond</td>\n",
       "    </tr>\n",
       "  </tbody>\n",
       "</table>\n",
       "</div>"
      ],
      "text/plain": [
       "   track_id track_condition  proportion df_name\n",
       "0       AQU             FT     0.575997  r_cond\n",
       "1       AQU             GD     0.141657  r_cond\n",
       "2       AQU             FM     0.113067  r_cond\n",
       "3       AQU             SY     0.112260  r_cond\n",
       "4       AQU             MY     0.049427  r_cond\n",
       "5       AQU             YL     0.007592  r_cond\n",
       "6       BEL             FT     0.358255  r_cond\n",
       "7       BEL             FM     0.349747  r_cond\n",
       "8       BEL             GD     0.157676  r_cond\n",
       "9       BEL             SY     0.092505  r_cond\n",
       "10      BEL             MY     0.020275  r_cond\n",
       "11      BEL             YL     0.019189  r_cond\n",
       "12      BEL             SF     0.002353  r_cond\n",
       "13      SAR             FT     0.440217  r_cond\n",
       "14      SAR             FM     0.361573  r_cond\n",
       "15      SAR             GD     0.088875  r_cond\n",
       "16      SAR             SY     0.059143  r_cond\n",
       "17      SAR             MY     0.027494  r_cond\n",
       "18      SAR             YL     0.020780  r_cond\n",
       "19      SAR             SF     0.001918  r_cond"
      ]
     },
     "execution_count": 122,
     "metadata": {},
     "output_type": "execute_result"
    }
   ],
   "source": [
    "r_cond = ra_st_h.groupby('track_id')['track_condition'].value_counts(normalize=True).to_frame()\n",
    "r_cond.columns = ['proportion']\n",
    "r_cond = r_cond.reset_index()\n",
    "r_cond['df_name'] = 'r_cond'\n",
    "r_cond"
   ]
  },
  {
   "cell_type": "code",
   "execution_count": 123,
   "id": "55ce6776",
   "metadata": {
    "scrolled": false
   },
   "outputs": [
    {
     "data": {
      "image/png": "[encoded data removed]",
      "text/plain": [
       "<Figure size 907.2x432 with 3 Axes>"
      ]
     },
     "metadata": {},
     "output_type": "display_data"
    }
   ],
   "source": [
    "r_co = sns.catplot(x=\"track_condition\", y=\"proportion\", hue=\"track_condition\", col=\"track_id\",\n",
    "                data=r_cond, kind=\"bar\",\n",
    "                height=6, aspect=.7)\n",
    "r_co.set_axis_labels(\"Track Condition\", \"Proportion of Races\");"
   ]
  },
  {
   "cell_type": "code",
   "execution_count": 125,
   "id": "3aec4729",
   "metadata": {},
   "outputs": [
    {
     "data": {
      "text/html": [
       "<div>\n",
       "<style scoped>\n",
       "    .dataframe tbody tr th:only-of-type {\n",
       "        vertical-align: middle;\n",
       "    }\n",
       "\n",
       "    .dataframe tbody tr th {\n",
       "        vertical-align: top;\n",
       "    }\n",
       "\n",
       "    .dataframe thead th {\n",
       "        text-align: right;\n",
       "    }\n",
       "</style>\n",
       "<table border=\"1\" class=\"dataframe\">\n",
       "  <thead>\n",
       "    <tr style=\"text-align: right;\">\n",
       "      <th></th>\n",
       "      <th>track_id</th>\n",
       "      <th>track_condition</th>\n",
       "      <th>proportion</th>\n",
       "      <th>df_name</th>\n",
       "    </tr>\n",
       "  </thead>\n",
       "  <tbody>\n",
       "    <tr>\n",
       "      <th>0</th>\n",
       "      <td>AQU</td>\n",
       "      <td>FT</td>\n",
       "      <td>0.621005</td>\n",
       "      <td>lo_cond</td>\n",
       "    </tr>\n",
       "    <tr>\n",
       "      <th>1</th>\n",
       "      <td>AQU</td>\n",
       "      <td>GD</td>\n",
       "      <td>0.132420</td>\n",
       "      <td>lo_cond</td>\n",
       "    </tr>\n",
       "    <tr>\n",
       "      <th>2</th>\n",
       "      <td>AQU</td>\n",
       "      <td>FM</td>\n",
       "      <td>0.100457</td>\n",
       "      <td>lo_cond</td>\n",
       "    </tr>\n",
       "    <tr>\n",
       "      <th>3</th>\n",
       "      <td>AQU</td>\n",
       "      <td>SY</td>\n",
       "      <td>0.082192</td>\n",
       "      <td>lo_cond</td>\n",
       "    </tr>\n",
       "    <tr>\n",
       "      <th>4</th>\n",
       "      <td>AQU</td>\n",
       "      <td>MY</td>\n",
       "      <td>0.059361</td>\n",
       "      <td>lo_cond</td>\n",
       "    </tr>\n",
       "    <tr>\n",
       "      <th>5</th>\n",
       "      <td>AQU</td>\n",
       "      <td>YL</td>\n",
       "      <td>0.004566</td>\n",
       "      <td>lo_cond</td>\n",
       "    </tr>\n",
       "    <tr>\n",
       "      <th>6</th>\n",
       "      <td>BEL</td>\n",
       "      <td>FT</td>\n",
       "      <td>0.407821</td>\n",
       "      <td>lo_cond</td>\n",
       "    </tr>\n",
       "    <tr>\n",
       "      <th>7</th>\n",
       "      <td>BEL</td>\n",
       "      <td>FM</td>\n",
       "      <td>0.307263</td>\n",
       "      <td>lo_cond</td>\n",
       "    </tr>\n",
       "    <tr>\n",
       "      <th>8</th>\n",
       "      <td>BEL</td>\n",
       "      <td>GD</td>\n",
       "      <td>0.178771</td>\n",
       "      <td>lo_cond</td>\n",
       "    </tr>\n",
       "    <tr>\n",
       "      <th>9</th>\n",
       "      <td>BEL</td>\n",
       "      <td>SY</td>\n",
       "      <td>0.061453</td>\n",
       "      <td>lo_cond</td>\n",
       "    </tr>\n",
       "    <tr>\n",
       "      <th>10</th>\n",
       "      <td>BEL</td>\n",
       "      <td>MY</td>\n",
       "      <td>0.022346</td>\n",
       "      <td>lo_cond</td>\n",
       "    </tr>\n",
       "    <tr>\n",
       "      <th>11</th>\n",
       "      <td>BEL</td>\n",
       "      <td>SF</td>\n",
       "      <td>0.011173</td>\n",
       "      <td>lo_cond</td>\n",
       "    </tr>\n",
       "    <tr>\n",
       "      <th>12</th>\n",
       "      <td>BEL</td>\n",
       "      <td>YL</td>\n",
       "      <td>0.011173</td>\n",
       "      <td>lo_cond</td>\n",
       "    </tr>\n",
       "    <tr>\n",
       "      <th>13</th>\n",
       "      <td>SAR</td>\n",
       "      <td>FM</td>\n",
       "      <td>0.422680</td>\n",
       "      <td>lo_cond</td>\n",
       "    </tr>\n",
       "    <tr>\n",
       "      <th>14</th>\n",
       "      <td>SAR</td>\n",
       "      <td>FT</td>\n",
       "      <td>0.422680</td>\n",
       "      <td>lo_cond</td>\n",
       "    </tr>\n",
       "    <tr>\n",
       "      <th>15</th>\n",
       "      <td>SAR</td>\n",
       "      <td>GD</td>\n",
       "      <td>0.072165</td>\n",
       "      <td>lo_cond</td>\n",
       "    </tr>\n",
       "    <tr>\n",
       "      <th>16</th>\n",
       "      <td>SAR</td>\n",
       "      <td>SY</td>\n",
       "      <td>0.051546</td>\n",
       "      <td>lo_cond</td>\n",
       "    </tr>\n",
       "    <tr>\n",
       "      <th>17</th>\n",
       "      <td>SAR</td>\n",
       "      <td>MY</td>\n",
       "      <td>0.020619</td>\n",
       "      <td>lo_cond</td>\n",
       "    </tr>\n",
       "    <tr>\n",
       "      <th>18</th>\n",
       "      <td>SAR</td>\n",
       "      <td>YL</td>\n",
       "      <td>0.010309</td>\n",
       "      <td>lo_cond</td>\n",
       "    </tr>\n",
       "    <tr>\n",
       "      <th>0</th>\n",
       "      <td>AQU</td>\n",
       "      <td>FT</td>\n",
       "      <td>0.575997</td>\n",
       "      <td>r_cond</td>\n",
       "    </tr>\n",
       "    <tr>\n",
       "      <th>1</th>\n",
       "      <td>AQU</td>\n",
       "      <td>GD</td>\n",
       "      <td>0.141657</td>\n",
       "      <td>r_cond</td>\n",
       "    </tr>\n",
       "    <tr>\n",
       "      <th>2</th>\n",
       "      <td>AQU</td>\n",
       "      <td>FM</td>\n",
       "      <td>0.113067</td>\n",
       "      <td>r_cond</td>\n",
       "    </tr>\n",
       "    <tr>\n",
       "      <th>3</th>\n",
       "      <td>AQU</td>\n",
       "      <td>SY</td>\n",
       "      <td>0.112260</td>\n",
       "      <td>r_cond</td>\n",
       "    </tr>\n",
       "    <tr>\n",
       "      <th>4</th>\n",
       "      <td>AQU</td>\n",
       "      <td>MY</td>\n",
       "      <td>0.049427</td>\n",
       "      <td>r_cond</td>\n",
       "    </tr>\n",
       "    <tr>\n",
       "      <th>5</th>\n",
       "      <td>AQU</td>\n",
       "      <td>YL</td>\n",
       "      <td>0.007592</td>\n",
       "      <td>r_cond</td>\n",
       "    </tr>\n",
       "    <tr>\n",
       "      <th>6</th>\n",
       "      <td>BEL</td>\n",
       "      <td>FT</td>\n",
       "      <td>0.358255</td>\n",
       "      <td>r_cond</td>\n",
       "    </tr>\n",
       "    <tr>\n",
       "      <th>7</th>\n",
       "      <td>BEL</td>\n",
       "      <td>FM</td>\n",
       "      <td>0.349747</td>\n",
       "      <td>r_cond</td>\n",
       "    </tr>\n",
       "    <tr>\n",
       "      <th>8</th>\n",
       "      <td>BEL</td>\n",
       "      <td>GD</td>\n",
       "      <td>0.157676</td>\n",
       "      <td>r_cond</td>\n",
       "    </tr>\n",
       "    <tr>\n",
       "      <th>9</th>\n",
       "      <td>BEL</td>\n",
       "      <td>SY</td>\n",
       "      <td>0.092505</td>\n",
       "      <td>r_cond</td>\n",
       "    </tr>\n",
       "    <tr>\n",
       "      <th>10</th>\n",
       "      <td>BEL</td>\n",
       "      <td>MY</td>\n",
       "      <td>0.020275</td>\n",
       "      <td>r_cond</td>\n",
       "    </tr>\n",
       "    <tr>\n",
       "      <th>11</th>\n",
       "      <td>BEL</td>\n",
       "      <td>YL</td>\n",
       "      <td>0.019189</td>\n",
       "      <td>r_cond</td>\n",
       "    </tr>\n",
       "    <tr>\n",
       "      <th>12</th>\n",
       "      <td>BEL</td>\n",
       "      <td>SF</td>\n",
       "      <td>0.002353</td>\n",
       "      <td>r_cond</td>\n",
       "    </tr>\n",
       "    <tr>\n",
       "      <th>13</th>\n",
       "      <td>SAR</td>\n",
       "      <td>FT</td>\n",
       "      <td>0.440217</td>\n",
       "      <td>r_cond</td>\n",
       "    </tr>\n",
       "    <tr>\n",
       "      <th>14</th>\n",
       "      <td>SAR</td>\n",
       "      <td>FM</td>\n",
       "      <td>0.361573</td>\n",
       "      <td>r_cond</td>\n",
       "    </tr>\n",
       "    <tr>\n",
       "      <th>15</th>\n",
       "      <td>SAR</td>\n",
       "      <td>GD</td>\n",
       "      <td>0.088875</td>\n",
       "      <td>r_cond</td>\n",
       "    </tr>\n",
       "    <tr>\n",
       "      <th>16</th>\n",
       "      <td>SAR</td>\n",
       "      <td>SY</td>\n",
       "      <td>0.059143</td>\n",
       "      <td>r_cond</td>\n",
       "    </tr>\n",
       "    <tr>\n",
       "      <th>17</th>\n",
       "      <td>SAR</td>\n",
       "      <td>MY</td>\n",
       "      <td>0.027494</td>\n",
       "      <td>r_cond</td>\n",
       "    </tr>\n",
       "    <tr>\n",
       "      <th>18</th>\n",
       "      <td>SAR</td>\n",
       "      <td>YL</td>\n",
       "      <td>0.020780</td>\n",
       "      <td>r_cond</td>\n",
       "    </tr>\n",
       "    <tr>\n",
       "      <th>19</th>\n",
       "      <td>SAR</td>\n",
       "      <td>SF</td>\n",
       "      <td>0.001918</td>\n",
       "      <td>r_cond</td>\n",
       "    </tr>\n",
       "  </tbody>\n",
       "</table>\n",
       "</div>"
      ],
      "text/plain": [
       "   track_id track_condition  proportion  df_name\n",
       "0       AQU             FT     0.621005  lo_cond\n",
       "1       AQU             GD     0.132420  lo_cond\n",
       "2       AQU             FM     0.100457  lo_cond\n",
       "3       AQU             SY     0.082192  lo_cond\n",
       "4       AQU             MY     0.059361  lo_cond\n",
       "5       AQU             YL     0.004566  lo_cond\n",
       "6       BEL             FT     0.407821  lo_cond\n",
       "7       BEL             FM     0.307263  lo_cond\n",
       "8       BEL             GD     0.178771  lo_cond\n",
       "9       BEL             SY     0.061453  lo_cond\n",
       "10      BEL             MY     0.022346  lo_cond\n",
       "11      BEL             SF     0.011173  lo_cond\n",
       "12      BEL             YL     0.011173  lo_cond\n",
       "13      SAR             FM     0.422680  lo_cond\n",
       "14      SAR             FT     0.422680  lo_cond\n",
       "15      SAR             GD     0.072165  lo_cond\n",
       "16      SAR             SY     0.051546  lo_cond\n",
       "17      SAR             MY     0.020619  lo_cond\n",
       "18      SAR             YL     0.010309  lo_cond\n",
       "0       AQU             FT     0.575997   r_cond\n",
       "1       AQU             GD     0.141657   r_cond\n",
       "2       AQU             FM     0.113067   r_cond\n",
       "3       AQU             SY     0.112260   r_cond\n",
       "4       AQU             MY     0.049427   r_cond\n",
       "5       AQU             YL     0.007592   r_cond\n",
       "6       BEL             FT     0.358255   r_cond\n",
       "7       BEL             FM     0.349747   r_cond\n",
       "8       BEL             GD     0.157676   r_cond\n",
       "9       BEL             SY     0.092505   r_cond\n",
       "10      BEL             MY     0.020275   r_cond\n",
       "11      BEL             YL     0.019189   r_cond\n",
       "12      BEL             SF     0.002353   r_cond\n",
       "13      SAR             FT     0.440217   r_cond\n",
       "14      SAR             FM     0.361573   r_cond\n",
       "15      SAR             GD     0.088875   r_cond\n",
       "16      SAR             SY     0.059143   r_cond\n",
       "17      SAR             MY     0.027494   r_cond\n",
       "18      SAR             YL     0.020780   r_cond\n",
       "19      SAR             SF     0.001918   r_cond"
      ]
     },
     "execution_count": 125,
     "metadata": {},
     "output_type": "execute_result"
    }
   ],
   "source": [
    "cond_comp = pd.concat([lo_cond, r_cond])\n",
    "cond_comp"
   ]
  },
  {
   "cell_type": "code",
   "execution_count": 129,
   "id": "ae01b509",
   "metadata": {},
   "outputs": [
    {
     "data": {
      "image/png": "[encoded data removed]",
      "text/plain": [
       "<Figure size 1158.22x360 with 3 Axes>"
      ]
     },
     "metadata": {},
     "output_type": "display_data"
    }
   ],
   "source": [
    "sns.catplot(x ='track_condition', y='proportion', hue='df_name', col='track_id',data=cond_comp, kind='bar');"
   ]
  },
  {
   "cell_type": "code",
   "execution_count": null,
   "id": "50c93002",
   "metadata": {},
   "outputs": [],
   "source": []
  },
  {
   "cell_type": "markdown",
   "id": "bf06fb71",
   "metadata": {},
   "source": [
    "### Scoring\n",
    "An entry to the competition consists of a Notebook submission that is evaluated on the following five components, where 0 is the low score and 100 is the high score. Submissions will be judged based on how well they address:\n",
    "\n",
    "#### Innovation (25 Points Total)\n",
    "- Is this a novel way of looking at tracking data? (10 Pts)\n",
    "- Are the statistical/machine learning approaches using the most up-to-date standards? (5 Pts)\n",
    "- Will the conclusions challenge the status quo of horse racing methods? (10 Pts)\n",
    "\n",
    "#### Relevance (30 Points Total)\n",
    "- Can the conclusions influence equine welfare, equine performance or rider decision making? (10 Points)\n",
    "- Can the conclusions be the basis of future research on future (larger, more granular) data sets? (10 Points)\n",
    "- Are the conclusions something that horse racing participants (e.g. owners, trainers, veterinarians) can understand, digest and debate? (10 Points)\n",
    "\n",
    "#### Competence (25 Points Total)\n",
    "- Given the data, are the statistical models appropriate? (5 Points)\n",
    "- Are the conclusions supported by the data? (10 Points)\n",
    "- Is the analysis accurate? (10 Points)\n",
    "\n",
    "#### Presentation (20 Points Total)\n",
    "- Is the writing clear and free of nomenclature? (5 Points)\n",
    "- Are the charts and tables provided interesting, visually appealing, and accurate? (5 Points)\n",
    "- Can the analysis thread be followed throughout the presentation? (10 Points)\n"
   ]
  },
  {
   "cell_type": "code",
   "execution_count": null,
   "id": "9bacdd34",
   "metadata": {},
   "outputs": [],
   "source": [
    "complete = pd.read_csv('data/nyra_2019_complete.csv')\n",
    "complete.info()"
   ]
  }
 ],
 "metadata": {
  "kernelspec": {
   "display_name": "Python 3 (ipykernel)",
   "language": "python",
   "name": "python3"
  },
  "language_info": {
   "codemirror_mode": {
    "name": "ipython",
    "version": 3
   },
   "file_extension": ".py",
   "mimetype": "text/x-python",
   "name": "python",
   "nbconvert_exporter": "python",
   "pygments_lexer": "ipython3",
   "version": "3.9.12"
  }
 },
 "nbformat": 4,
 "nbformat_minor": 5
}
