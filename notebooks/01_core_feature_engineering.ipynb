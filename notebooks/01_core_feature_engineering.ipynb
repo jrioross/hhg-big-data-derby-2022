{
 "cells": [
  {
   "cell_type": "markdown",
   "metadata": {},
   "source": [
    "# Target and Feature Generation"
   ]
  },
  {
   "cell_type": "markdown",
   "metadata": {},
   "source": [
    "## Imports"
   ]
  },
  {
   "cell_type": "code",
   "execution_count": 21,
   "metadata": {},
   "outputs": [],
   "source": [
    "import numpy as np\n",
    "import pandas as pd\n",
    "\n",
    "import geopandas as gpd\n",
    "from shapely.geometry import Point\n",
    "import dask_geopandas\n",
    "import dask.dataframe as dd\n",
    "\n",
    "import matplotlib.pyplot as plt\n",
    "import plotly.express as px\n",
    "from plotly.tools import mpl_to_plotly as ggplotly\n",
    "from plotnine import *\n",
    "\n",
    "from geopy.distance import geodesic\n",
    "from geopy.distance import great_circle\n",
    "from vincenty import vincenty\n",
    "\n",
    "from concurrent.futures import ThreadPoolExecutor"
   ]
  },
  {
   "cell_type": "code",
   "execution_count": 22,
   "metadata": {},
   "outputs": [],
   "source": [
    "def npshift(arr, num, fill_value=np.nan):\n",
    "    result = np.empty_like(arr)\n",
    "    if num > 0:\n",
    "        result[:num] = fill_value\n",
    "        result[num:] = arr[:-num]\n",
    "    elif num < 0:\n",
    "        result[num:] = fill_value\n",
    "        result[:num] = arr[-num:]\n",
    "    else:\n",
    "        result[:] = arr\n",
    "    return result\n",
    "\n",
    "def vincenty_robust(start, finish):\n",
    "    \"\"\"Multiply units by 1000 to get meters\"\"\"\n",
    "    try:\n",
    "        return vincenty(tuple(start), tuple(finish))*1000\n",
    "    except:\n",
    "        return np.nan\n",
    "\n",
    "def get_angle_robust(point1, point2):\n",
    "    try:\n",
    "        vector_1 = np.array(point1)\n",
    "        vector_2 = np.array(point2)\n",
    "        unit_vector_1 = vector_1 / np.linalg.norm(vector_1)\n",
    "        unit_vector_2 = vector_2 / np.linalg.norm(vector_2)\n",
    "        dot_product = np.dot(unit_vector_1, unit_vector_2)\n",
    "        angle = np.arccos(dot_product)\n",
    "        return angle\n",
    "    except:\n",
    "        return np.nan"
   ]
  },
  {
   "cell_type": "markdown",
   "metadata": {},
   "source": [
    "## Create Target"
   ]
  },
  {
   "cell_type": "code",
   "execution_count": 23,
   "metadata": {},
   "outputs": [
    {
     "data": {
      "text/html": [
       "<div>\n",
       "<style scoped>\n",
       "    .dataframe tbody tr th:only-of-type {\n",
       "        vertical-align: middle;\n",
       "    }\n",
       "\n",
       "    .dataframe tbody tr th {\n",
       "        vertical-align: top;\n",
       "    }\n",
       "\n",
       "    .dataframe thead th {\n",
       "        text-align: right;\n",
       "    }\n",
       "</style>\n",
       "<table border=\"1\" class=\"dataframe\">\n",
       "  <thead>\n",
       "    <tr style=\"text-align: right;\">\n",
       "      <th></th>\n",
       "      <th>track_id</th>\n",
       "      <th>race_date</th>\n",
       "      <th>race_number</th>\n",
       "      <th>program_number</th>\n",
       "      <th>trakus_index</th>\n",
       "      <th>latitude</th>\n",
       "      <th>longitude</th>\n",
       "      <th>distance_id</th>\n",
       "      <th>course_type</th>\n",
       "      <th>track_condition</th>\n",
       "      <th>run_up_distance</th>\n",
       "      <th>race_type</th>\n",
       "      <th>purse</th>\n",
       "      <th>post_time</th>\n",
       "      <th>weight_carried</th>\n",
       "      <th>jockey</th>\n",
       "      <th>odds</th>\n",
       "      <th>position_at_finish</th>\n",
       "    </tr>\n",
       "  </thead>\n",
       "  <tbody>\n",
       "    <tr>\n",
       "      <th>0</th>\n",
       "      <td>AQU</td>\n",
       "      <td>2019-01-01</td>\n",
       "      <td>9</td>\n",
       "      <td>6</td>\n",
       "      <td>72</td>\n",
       "      <td>40.672902</td>\n",
       "      <td>-73.827607</td>\n",
       "      <td>600</td>\n",
       "      <td>D</td>\n",
       "      <td>GD</td>\n",
       "      <td>48</td>\n",
       "      <td>CLM</td>\n",
       "      <td>25000.0</td>\n",
       "      <td>00420</td>\n",
       "      <td>120</td>\n",
       "      <td>Andre Shivnarine Worrie</td>\n",
       "      <td>2090</td>\n",
       "      <td>8</td>\n",
       "    </tr>\n",
       "    <tr>\n",
       "      <th>1</th>\n",
       "      <td>AQU</td>\n",
       "      <td>2019-01-01</td>\n",
       "      <td>9</td>\n",
       "      <td>6</td>\n",
       "      <td>73</td>\n",
       "      <td>40.672946</td>\n",
       "      <td>-73.827587</td>\n",
       "      <td>600</td>\n",
       "      <td>D</td>\n",
       "      <td>GD</td>\n",
       "      <td>48</td>\n",
       "      <td>CLM</td>\n",
       "      <td>25000.0</td>\n",
       "      <td>00420</td>\n",
       "      <td>120</td>\n",
       "      <td>Andre Shivnarine Worrie</td>\n",
       "      <td>2090</td>\n",
       "      <td>8</td>\n",
       "    </tr>\n",
       "    <tr>\n",
       "      <th>2</th>\n",
       "      <td>AQU</td>\n",
       "      <td>2019-01-01</td>\n",
       "      <td>9</td>\n",
       "      <td>6</td>\n",
       "      <td>74</td>\n",
       "      <td>40.672990</td>\n",
       "      <td>-73.827568</td>\n",
       "      <td>600</td>\n",
       "      <td>D</td>\n",
       "      <td>GD</td>\n",
       "      <td>48</td>\n",
       "      <td>CLM</td>\n",
       "      <td>25000.0</td>\n",
       "      <td>00420</td>\n",
       "      <td>120</td>\n",
       "      <td>Andre Shivnarine Worrie</td>\n",
       "      <td>2090</td>\n",
       "      <td>8</td>\n",
       "    </tr>\n",
       "    <tr>\n",
       "      <th>3</th>\n",
       "      <td>AQU</td>\n",
       "      <td>2019-01-01</td>\n",
       "      <td>9</td>\n",
       "      <td>6</td>\n",
       "      <td>63</td>\n",
       "      <td>40.672510</td>\n",
       "      <td>-73.827781</td>\n",
       "      <td>600</td>\n",
       "      <td>D</td>\n",
       "      <td>GD</td>\n",
       "      <td>48</td>\n",
       "      <td>CLM</td>\n",
       "      <td>25000.0</td>\n",
       "      <td>00420</td>\n",
       "      <td>120</td>\n",
       "      <td>Andre Shivnarine Worrie</td>\n",
       "      <td>2090</td>\n",
       "      <td>8</td>\n",
       "    </tr>\n",
       "    <tr>\n",
       "      <th>4</th>\n",
       "      <td>AQU</td>\n",
       "      <td>2019-01-01</td>\n",
       "      <td>9</td>\n",
       "      <td>6</td>\n",
       "      <td>64</td>\n",
       "      <td>40.672553</td>\n",
       "      <td>-73.827762</td>\n",
       "      <td>600</td>\n",
       "      <td>D</td>\n",
       "      <td>GD</td>\n",
       "      <td>48</td>\n",
       "      <td>CLM</td>\n",
       "      <td>25000.0</td>\n",
       "      <td>00420</td>\n",
       "      <td>120</td>\n",
       "      <td>Andre Shivnarine Worrie</td>\n",
       "      <td>2090</td>\n",
       "      <td>8</td>\n",
       "    </tr>\n",
       "  </tbody>\n",
       "</table>\n",
       "</div>"
      ],
      "text/plain": [
       "  track_id   race_date  race_number program_number  trakus_index   latitude  \\\n",
       "0      AQU  2019-01-01            9            6              72  40.672902   \n",
       "1      AQU  2019-01-01            9            6              73  40.672946   \n",
       "2      AQU  2019-01-01            9            6              74  40.672990   \n",
       "3      AQU  2019-01-01            9            6              63  40.672510   \n",
       "4      AQU  2019-01-01            9            6              64  40.672553   \n",
       "\n",
       "   longitude  distance_id course_type track_condition  run_up_distance  \\\n",
       "0 -73.827607          600           D             GD                48   \n",
       "1 -73.827587          600           D             GD                48   \n",
       "2 -73.827568          600           D             GD                48   \n",
       "3 -73.827781          600           D             GD                48   \n",
       "4 -73.827762          600           D             GD                48   \n",
       "\n",
       "  race_type    purse post_time  weight_carried                   jockey  odds  \\\n",
       "0       CLM  25000.0     00420             120  Andre Shivnarine Worrie  2090   \n",
       "1       CLM  25000.0     00420             120  Andre Shivnarine Worrie  2090   \n",
       "2       CLM  25000.0     00420             120  Andre Shivnarine Worrie  2090   \n",
       "3       CLM  25000.0     00420             120  Andre Shivnarine Worrie  2090   \n",
       "4       CLM  25000.0     00420             120  Andre Shivnarine Worrie  2090   \n",
       "\n",
       "   position_at_finish  \n",
       "0                   8  \n",
       "1                   8  \n",
       "2                   8  \n",
       "3                   8  \n",
       "4                   8  "
      ]
     },
     "execution_count": 23,
     "metadata": {},
     "output_type": "execute_result"
    }
   ],
   "source": [
    "complete_cols = ['track_id', 'race_date', 'race_number', 'program_number', 'trakus_index', 'latitude', 'longitude', 'distance_id', 'course_type',\n",
    "                 'track_condition', 'run_up_distance', 'race_type', 'purse', 'post_time', 'weight_carried', 'jockey', 'odds', 'position_at_finish']\n",
    "\n",
    "complete = pd.read_csv(\n",
    "    \"../data/nyra_2019_complete.csv\", \n",
    "    header=None,\n",
    "    names=complete_cols,\n",
    "    dtype={\n",
    "        'program_number': str,\n",
    "        'track_condition': str,\n",
    "        'race_type':str,\n",
    "        'post_time':str\n",
    "        }\n",
    "                    \n",
    "    )\n",
    "\n",
    "complete.head()\n"
   ]
  },
  {
   "cell_type": "code",
   "execution_count": 24,
   "metadata": {},
   "outputs": [
    {
     "data": {
      "text/plain": [
       "track_id               object\n",
       "race_date              object\n",
       "race_number             int64\n",
       "program_number         object\n",
       "trakus_index            int64\n",
       "latitude              float64\n",
       "longitude             float64\n",
       "distance_id             int64\n",
       "course_type            object\n",
       "track_condition        object\n",
       "run_up_distance         int64\n",
       "race_type              object\n",
       "purse                 float64\n",
       "post_time              object\n",
       "weight_carried          int64\n",
       "jockey                 object\n",
       "odds                    int64\n",
       "position_at_finish      int64\n",
       "dtype: object"
      ]
     },
     "execution_count": 24,
     "metadata": {},
     "output_type": "execute_result"
    }
   ],
   "source": [
    "complete.dtypes"
   ]
  },
  {
   "cell_type": "markdown",
   "metadata": {},
   "source": [
    "## Create Features"
   ]
  },
  {
   "cell_type": "markdown",
   "metadata": {},
   "source": [
    "### Create Distances"
   ]
  },
  {
   "cell_type": "code",
   "execution_count": 25,
   "metadata": {},
   "outputs": [
    {
     "data": {
      "text/plain": [
       "<bound method GroupBy.ngroup of <pandas.core.groupby.generic.DataFrameGroupBy object at 0x0000016FE2EA9300>>"
      ]
     },
     "execution_count": 25,
     "metadata": {},
     "output_type": "execute_result"
    }
   ],
   "source": [
    "(complete\n",
    "    .groupby(\n",
    "        [\n",
    "        'track_id',\n",
    "        'race_date',\n",
    "        'race_number',\n",
    "        'program_number'\n",
    "        ]\n",
    "    )\n",
    "    [[\n",
    "    'track_id',\n",
    "    'race_date',\n",
    "    'race_number',\n",
    "    'program_number'\n",
    "    ]]\n",
    "    .ngroup\n",
    ")"
   ]
  },
  {
   "cell_type": "code",
   "execution_count": 26,
   "metadata": {},
   "outputs": [],
   "source": [
    "complete = (    \n",
    "    complete\n",
    "    .sort_values(\n",
    "        [\n",
    "            'track_id',\n",
    "            'race_date',\n",
    "            'race_number',\n",
    "            'program_number',\n",
    "            'trakus_index'\n",
    "        ]\n",
    "    )\n",
    "    .reset_index(drop=True)\n",
    ")\n"
   ]
  },
  {
   "cell_type": "code",
   "execution_count": 27,
   "metadata": {},
   "outputs": [],
   "source": [
    "#ddf = dask_geopandas.from_geopandas(complete_geo, npartitions=5)"
   ]
  },
  {
   "cell_type": "code",
   "execution_count": 28,
   "metadata": {},
   "outputs": [],
   "source": [
    "# latlon_array = np.array(list(zip(complete['latitude'], complete['longitude'])))\n",
    "# latlon_array_shift = npshift(latlon_array, -1)"
   ]
  },
  {
   "cell_type": "code",
   "execution_count": 29,
   "metadata": {},
   "outputs": [
    {
     "data": {
      "text/plain": [
       "0    (40.6694007433791, -73.8292054206592)\n",
       "1    (40.6694051526183, -73.8292030605591)\n",
       "2    (40.6694113624261, -73.8292000780746)\n",
       "3    (40.6694207810975, -73.8291957066611)\n",
       "4    (40.6694325233872, -73.8291904199145)\n",
       "Name: latlon, dtype: object"
      ]
     },
     "execution_count": 29,
     "metadata": {},
     "output_type": "execute_result"
    }
   ],
   "source": [
    "complete['latlon'] = np.array(zip(complete['latitude'], complete['longitude']))\n",
    "complete['latlon'].head()"
   ]
  },
  {
   "cell_type": "code",
   "execution_count": 30,
   "metadata": {},
   "outputs": [],
   "source": [
    "complete['latlon_shift'] = (\n",
    "    complete\n",
    "    .groupby(\n",
    "        [\n",
    "            'track_id',\n",
    "            'race_date',\n",
    "            'race_number',\n",
    "            'program_number'\n",
    "        ]\n",
    "    )\n",
    "    ['latlon']\n",
    "    .shift(-1)\n",
    ")"
   ]
  },
  {
   "cell_type": "code",
   "execution_count": 31,
   "metadata": {},
   "outputs": [],
   "source": [
    "with ThreadPoolExecutor(500) as executor:\n",
    "    res = executor.map(vincenty_robust, complete['latlon'], complete['latlon_shift'])\n",
    "complete['segment_distance'] = list(res)"
   ]
  },
  {
   "cell_type": "markdown",
   "metadata": {},
   "source": [
    "### Create Angles"
   ]
  },
  {
   "cell_type": "code",
   "execution_count": 33,
   "metadata": {},
   "outputs": [
    {
     "name": "stderr",
     "output_type": "stream",
     "text": [
      "C:\\Users\\jrior\\AppData\\Local\\Temp\\ipykernel_16884\\1238650976.py:8: RuntimeWarning: invalid value encountered in arccos\n"
     ]
    }
   ],
   "source": [
    "with ThreadPoolExecutor(500) as executor:\n",
    "    res = executor.map(get_angle_robust, complete['latlon'], complete['latlon_shift'])\n",
    "complete['segment_angle'] = list(res)"
   ]
  },
  {
   "cell_type": "code",
   "execution_count": 34,
   "metadata": {},
   "outputs": [],
   "source": [
    "complete['segment_angle'] = complete['segment_angle'].apply(lambda x: np.nan if type(x) == np.ndarray else x)"
   ]
  },
  {
   "cell_type": "markdown",
   "metadata": {},
   "source": [
    "### Create Speeds"
   ]
  },
  {
   "cell_type": "code",
   "execution_count": 36,
   "metadata": {},
   "outputs": [],
   "source": [
    "complete['segment_speed'] = complete['segment_distance']*4"
   ]
  },
  {
   "cell_type": "markdown",
   "metadata": {},
   "source": [
    "### Create Accelerations"
   ]
  },
  {
   "cell_type": "code",
   "execution_count": 47,
   "metadata": {},
   "outputs": [],
   "source": [
    "complete['segment_acceleration'] = (\n",
    "    complete\n",
    "        .groupby(\n",
    "            [\n",
    "            'track_id',\n",
    "            'race_date',\n",
    "            'race_number',\n",
    "            'program_number'\n",
    "            ]\n",
    "        )\n",
    "        ['segment_speed']\n",
    "        .diff()\n",
    ")"
   ]
  },
  {
   "cell_type": "markdown",
   "metadata": {},
   "source": [
    "### Save"
   ]
  },
  {
   "cell_type": "code",
   "execution_count": 49,
   "metadata": {},
   "outputs": [],
   "source": [
    "complete.to_csv('../data/nyra_2019_complete_saad.csv', index = False)"
   ]
  }
 ],
 "metadata": {
  "kernelspec": {
   "display_name": "Python 3.10.4 ('bigderby')",
   "language": "python",
   "name": "python3"
  },
  "language_info": {
   "codemirror_mode": {
    "name": "ipython",
    "version": 3
   },
   "file_extension": ".py",
   "mimetype": "text/x-python",
   "name": "python",
   "nbconvert_exporter": "python",
   "pygments_lexer": "ipython3",
   "version": "3.10.4"
  },
  "orig_nbformat": 4,
  "vscode": {
   "interpreter": {
    "hash": "6dc244d8c637bff0d3ac5fae0733af5c1a0663498297bf28636b71ed25b41a95"
   }
  }
 },
 "nbformat": 4,
 "nbformat_minor": 2
}
