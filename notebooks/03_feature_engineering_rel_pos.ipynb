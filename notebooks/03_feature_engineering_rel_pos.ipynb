{
 "cells": [
  {
   "cell_type": "markdown",
   "metadata": {},
   "source": [
    "# Feature Engineering: Relative Position"
   ]
  },
  {
   "cell_type": "markdown",
   "metadata": {},
   "source": [
    "## Imports"
   ]
  },
  {
   "cell_type": "code",
   "execution_count": 17,
   "metadata": {},
   "outputs": [],
   "source": [
    "import pandas as pd\n",
    "import numpy as np\n",
    "import sympy\n",
    "import plotly.express as px"
   ]
  },
  {
   "cell_type": "markdown",
   "metadata": {},
   "source": [
    "## Read In"
   ]
  },
  {
   "cell_type": "code",
   "execution_count": 3,
   "metadata": {},
   "outputs": [],
   "source": [
    "complete = pd.read_csv(\n",
    "    '../data/nyra_2019_complete_target.csv',\n",
    "    dtype = {\n",
    "        'program_number': str,\n",
    "        'track_condition': str,\n",
    "        'race_type':str,\n",
    "        'post_time':str,\n",
    "        'initial_projected_position':int\n",
    "    }\n",
    ")"
   ]
  },
  {
   "cell_type": "markdown",
   "metadata": {},
   "source": [
    "## Relative Position"
   ]
  },
  {
   "cell_type": "code",
   "execution_count": 8,
   "metadata": {},
   "outputs": [
    {
     "data": {
      "text/plain": [
       "track_id                               object\n",
       "race_date                              object\n",
       "race_number                             int64\n",
       "program_number                         object\n",
       "trakus_index                            int64\n",
       "latitude                              float64\n",
       "longitude                             float64\n",
       "distance_id                             int64\n",
       "course_type                            object\n",
       "track_condition                        object\n",
       "run_up_distance                         int64\n",
       "race_type                              object\n",
       "purse                                 float64\n",
       "post_time                              object\n",
       "weight_carried                          int64\n",
       "jockey                                 object\n",
       "odds                                    int64\n",
       "position_at_finish                      int64\n",
       "segment_distance                      float64\n",
       "segment_angle                         float64\n",
       "segment_speed                         float64\n",
       "segment_acceleration                  float64\n",
       "initial_projected_position              int32\n",
       "actual_vs_initial_projected_finish    float64\n",
       "dtype: object"
      ]
     },
     "execution_count": 8,
     "metadata": {},
     "output_type": "execute_result"
    }
   ],
   "source": [
    "complete.dtypes"
   ]
  },
  {
   "cell_type": "code",
   "execution_count": 45,
   "metadata": {},
   "outputs": [],
   "source": [
    "aqu8 = (\n",
    "    complete\n",
    "        .loc[\n",
    "            (complete['track_id'] == 'AQU')\n",
    "            &\n",
    "            (complete['race_date'] == '2019-01-01')\n",
    "            &\n",
    "            (complete['race_number'] == 8)\n",
    "        ]\n",
    ")"
   ]
  },
  {
   "cell_type": "code",
   "execution_count": 174,
   "metadata": {},
   "outputs": [
    {
     "data": {
      "application/vnd.plotly.v1+json": {
       "config": {
        "plotlyServerURL": "https://plotly.com"
       },
       "data": [
        {
         "customdata": [
          [
           12
          ],
          [
           13
          ]
         ],
         "hovertemplate": "program_number=1  <br>longitude=%{x}<br>latitude=%{y}<br>trakus_index=%{customdata[0]}<extra></extra>",
         "legendgroup": "1  ",
         "marker": {
          "color": "#636efa",
          "symbol": "circle"
         },
         "mode": "markers",
         "name": "1  ",
         "orientation": "v",
         "showlegend": true,
         "type": "scatter",
         "x": [
          -73.8302651610951,
          -73.8302516496949
         ],
         "xaxis": "x",
         "y": [
          40.6671073313047,
          40.6671389865046
         ],
         "yaxis": "y"
        },
        {
         "customdata": [
          [
           12
          ],
          [
           13
          ]
         ],
         "hovertemplate": "program_number=2  <br>longitude=%{x}<br>latitude=%{y}<br>trakus_index=%{customdata[0]}<extra></extra>",
         "legendgroup": "2  ",
         "marker": {
          "color": "#EF553B",
          "symbol": "circle"
         },
         "mode": "markers",
         "name": "2  ",
         "orientation": "v",
         "showlegend": true,
         "type": "scatter",
         "x": [
          -73.8302441353679,
          -73.8302283013935
         ],
         "xaxis": "x",
         "y": [
          40.6671036226205,
          40.6671358757166
         ],
         "yaxis": "y"
        },
        {
         "customdata": [
          [
           12
          ],
          [
           13
          ]
         ],
         "hovertemplate": "program_number=3  <br>longitude=%{x}<br>latitude=%{y}<br>trakus_index=%{customdata[0]}<extra></extra>",
         "legendgroup": "3  ",
         "marker": {
          "color": "#00cc96",
          "symbol": "circle"
         },
         "mode": "markers",
         "name": "3  ",
         "orientation": "v",
         "showlegend": true,
         "type": "scatter",
         "x": [
          -73.8302294213282,
          -73.8302147031395
         ],
         "xaxis": "x",
         "y": [
          40.6671259738659,
          40.667160256394
         ],
         "yaxis": "y"
        },
        {
         "customdata": [
          [
           12
          ],
          [
           13
          ]
         ],
         "hovertemplate": "program_number=4  <br>longitude=%{x}<br>latitude=%{y}<br>trakus_index=%{customdata[0]}<extra></extra>",
         "legendgroup": "4  ",
         "marker": {
          "color": "#ab63fa",
          "symbol": "circle"
         },
         "mode": "markers",
         "name": "4  ",
         "orientation": "v",
         "showlegend": true,
         "type": "scatter",
         "x": [
          -73.8302226045564,
          -73.8302062446745
         ],
         "xaxis": "x",
         "y": [
          40.6671213595187,
          40.6671554486913
         ],
         "yaxis": "y"
        },
        {
         "customdata": [
          [
           12
          ],
          [
           13
          ]
         ],
         "hovertemplate": "program_number=5  <br>longitude=%{x}<br>latitude=%{y}<br>trakus_index=%{customdata[0]}<extra></extra>",
         "legendgroup": "5  ",
         "marker": {
          "color": "#FFA15A",
          "symbol": "circle"
         },
         "mode": "markers",
         "name": "5  ",
         "orientation": "v",
         "showlegend": true,
         "type": "scatter",
         "x": [
          -73.8302164289571,
          -73.8302022867271
         ],
         "xaxis": "x",
         "y": [
          40.6670896804936,
          40.6671217487158
         ],
         "yaxis": "y"
        },
        {
         "customdata": [
          [
           12
          ],
          [
           13
          ]
         ],
         "hovertemplate": "program_number=6  <br>longitude=%{x}<br>latitude=%{y}<br>trakus_index=%{customdata[0]}<extra></extra>",
         "legendgroup": "6  ",
         "marker": {
          "color": "#19d3f3",
          "symbol": "circle"
         },
         "mode": "markers",
         "name": "6  ",
         "orientation": "v",
         "showlegend": true,
         "type": "scatter",
         "x": [
          -73.8301327061395,
          -73.8301252376439
         ],
         "xaxis": "x",
         "y": [
          40.6670938162518,
          40.6671291037343
         ],
         "yaxis": "y"
        }
       ],
       "layout": {
        "legend": {
         "title": {
          "text": "program_number"
         },
         "tracegroupgap": 0
        },
        "margin": {
         "t": 60
        },
        "template": {
         "data": {
          "bar": [
           {
            "error_x": {
             "color": "#2a3f5f"
            },
            "error_y": {
             "color": "#2a3f5f"
            },
            "marker": {
             "line": {
              "color": "#E5ECF6",
              "width": 0.5
             },
             "pattern": {
              "fillmode": "overlay",
              "size": 10,
              "solidity": 0.2
             }
            },
            "type": "bar"
           }
          ],
          "barpolar": [
           {
            "marker": {
             "line": {
              "color": "#E5ECF6",
              "width": 0.5
             },
             "pattern": {
              "fillmode": "overlay",
              "size": 10,
              "solidity": 0.2
             }
            },
            "type": "barpolar"
           }
          ],
          "carpet": [
           {
            "aaxis": {
             "endlinecolor": "#2a3f5f",
             "gridcolor": "white",
             "linecolor": "white",
             "minorgridcolor": "white",
             "startlinecolor": "#2a3f5f"
            },
            "baxis": {
             "endlinecolor": "#2a3f5f",
             "gridcolor": "white",
             "linecolor": "white",
             "minorgridcolor": "white",
             "startlinecolor": "#2a3f5f"
            },
            "type": "carpet"
           }
          ],
          "choropleth": [
           {
            "colorbar": {
             "outlinewidth": 0,
             "ticks": ""
            },
            "type": "choropleth"
           }
          ],
          "contour": [
           {
            "colorbar": {
             "outlinewidth": 0,
             "ticks": ""
            },
            "colorscale": [
             [
              0,
              "#0d0887"
             ],
             [
              0.1111111111111111,
              "#46039f"
             ],
             [
              0.2222222222222222,
              "#7201a8"
             ],
             [
              0.3333333333333333,
              "#9c179e"
             ],
             [
              0.4444444444444444,
              "#bd3786"
             ],
             [
              0.5555555555555556,
              "#d8576b"
             ],
             [
              0.6666666666666666,
              "#ed7953"
             ],
             [
              0.7777777777777778,
              "#fb9f3a"
             ],
             [
              0.8888888888888888,
              "#fdca26"
             ],
             [
              1,
              "#f0f921"
             ]
            ],
            "type": "contour"
           }
          ],
          "contourcarpet": [
           {
            "colorbar": {
             "outlinewidth": 0,
             "ticks": ""
            },
            "type": "contourcarpet"
           }
          ],
          "heatmap": [
           {
            "colorbar": {
             "outlinewidth": 0,
             "ticks": ""
            },
            "colorscale": [
             [
              0,
              "#0d0887"
             ],
             [
              0.1111111111111111,
              "#46039f"
             ],
             [
              0.2222222222222222,
              "#7201a8"
             ],
             [
              0.3333333333333333,
              "#9c179e"
             ],
             [
              0.4444444444444444,
              "#bd3786"
             ],
             [
              0.5555555555555556,
              "#d8576b"
             ],
             [
              0.6666666666666666,
              "#ed7953"
             ],
             [
              0.7777777777777778,
              "#fb9f3a"
             ],
             [
              0.8888888888888888,
              "#fdca26"
             ],
             [
              1,
              "#f0f921"
             ]
            ],
            "type": "heatmap"
           }
          ],
          "heatmapgl": [
           {
            "colorbar": {
             "outlinewidth": 0,
             "ticks": ""
            },
            "colorscale": [
             [
              0,
              "#0d0887"
             ],
             [
              0.1111111111111111,
              "#46039f"
             ],
             [
              0.2222222222222222,
              "#7201a8"
             ],
             [
              0.3333333333333333,
              "#9c179e"
             ],
             [
              0.4444444444444444,
              "#bd3786"
             ],
             [
              0.5555555555555556,
              "#d8576b"
             ],
             [
              0.6666666666666666,
              "#ed7953"
             ],
             [
              0.7777777777777778,
              "#fb9f3a"
             ],
             [
              0.8888888888888888,
              "#fdca26"
             ],
             [
              1,
              "#f0f921"
             ]
            ],
            "type": "heatmapgl"
           }
          ],
          "histogram": [
           {
            "marker": {
             "pattern": {
              "fillmode": "overlay",
              "size": 10,
              "solidity": 0.2
             }
            },
            "type": "histogram"
           }
          ],
          "histogram2d": [
           {
            "colorbar": {
             "outlinewidth": 0,
             "ticks": ""
            },
            "colorscale": [
             [
              0,
              "#0d0887"
             ],
             [
              0.1111111111111111,
              "#46039f"
             ],
             [
              0.2222222222222222,
              "#7201a8"
             ],
             [
              0.3333333333333333,
              "#9c179e"
             ],
             [
              0.4444444444444444,
              "#bd3786"
             ],
             [
              0.5555555555555556,
              "#d8576b"
             ],
             [
              0.6666666666666666,
              "#ed7953"
             ],
             [
              0.7777777777777778,
              "#fb9f3a"
             ],
             [
              0.8888888888888888,
              "#fdca26"
             ],
             [
              1,
              "#f0f921"
             ]
            ],
            "type": "histogram2d"
           }
          ],
          "histogram2dcontour": [
           {
            "colorbar": {
             "outlinewidth": 0,
             "ticks": ""
            },
            "colorscale": [
             [
              0,
              "#0d0887"
             ],
             [
              0.1111111111111111,
              "#46039f"
             ],
             [
              0.2222222222222222,
              "#7201a8"
             ],
             [
              0.3333333333333333,
              "#9c179e"
             ],
             [
              0.4444444444444444,
              "#bd3786"
             ],
             [
              0.5555555555555556,
              "#d8576b"
             ],
             [
              0.6666666666666666,
              "#ed7953"
             ],
             [
              0.7777777777777778,
              "#fb9f3a"
             ],
             [
              0.8888888888888888,
              "#fdca26"
             ],
             [
              1,
              "#f0f921"
             ]
            ],
            "type": "histogram2dcontour"
           }
          ],
          "mesh3d": [
           {
            "colorbar": {
             "outlinewidth": 0,
             "ticks": ""
            },
            "type": "mesh3d"
           }
          ],
          "parcoords": [
           {
            "line": {
             "colorbar": {
              "outlinewidth": 0,
              "ticks": ""
             }
            },
            "type": "parcoords"
           }
          ],
          "pie": [
           {
            "automargin": true,
            "type": "pie"
           }
          ],
          "scatter": [
           {
            "fillpattern": {
             "fillmode": "overlay",
             "size": 10,
             "solidity": 0.2
            },
            "type": "scatter"
           }
          ],
          "scatter3d": [
           {
            "line": {
             "colorbar": {
              "outlinewidth": 0,
              "ticks": ""
             }
            },
            "marker": {
             "colorbar": {
              "outlinewidth": 0,
              "ticks": ""
             }
            },
            "type": "scatter3d"
           }
          ],
          "scattercarpet": [
           {
            "marker": {
             "colorbar": {
              "outlinewidth": 0,
              "ticks": ""
             }
            },
            "type": "scattercarpet"
           }
          ],
          "scattergeo": [
           {
            "marker": {
             "colorbar": {
              "outlinewidth": 0,
              "ticks": ""
             }
            },
            "type": "scattergeo"
           }
          ],
          "scattergl": [
           {
            "marker": {
             "colorbar": {
              "outlinewidth": 0,
              "ticks": ""
             }
            },
            "type": "scattergl"
           }
          ],
          "scattermapbox": [
           {
            "marker": {
             "colorbar": {
              "outlinewidth": 0,
              "ticks": ""
             }
            },
            "type": "scattermapbox"
           }
          ],
          "scatterpolar": [
           {
            "marker": {
             "colorbar": {
              "outlinewidth": 0,
              "ticks": ""
             }
            },
            "type": "scatterpolar"
           }
          ],
          "scatterpolargl": [
           {
            "marker": {
             "colorbar": {
              "outlinewidth": 0,
              "ticks": ""
             }
            },
            "type": "scatterpolargl"
           }
          ],
          "scatterternary": [
           {
            "marker": {
             "colorbar": {
              "outlinewidth": 0,
              "ticks": ""
             }
            },
            "type": "scatterternary"
           }
          ],
          "surface": [
           {
            "colorbar": {
             "outlinewidth": 0,
             "ticks": ""
            },
            "colorscale": [
             [
              0,
              "#0d0887"
             ],
             [
              0.1111111111111111,
              "#46039f"
             ],
             [
              0.2222222222222222,
              "#7201a8"
             ],
             [
              0.3333333333333333,
              "#9c179e"
             ],
             [
              0.4444444444444444,
              "#bd3786"
             ],
             [
              0.5555555555555556,
              "#d8576b"
             ],
             [
              0.6666666666666666,
              "#ed7953"
             ],
             [
              0.7777777777777778,
              "#fb9f3a"
             ],
             [
              0.8888888888888888,
              "#fdca26"
             ],
             [
              1,
              "#f0f921"
             ]
            ],
            "type": "surface"
           }
          ],
          "table": [
           {
            "cells": {
             "fill": {
              "color": "#EBF0F8"
             },
             "line": {
              "color": "white"
             }
            },
            "header": {
             "fill": {
              "color": "#C8D4E3"
             },
             "line": {
              "color": "white"
             }
            },
            "type": "table"
           }
          ]
         },
         "layout": {
          "annotationdefaults": {
           "arrowcolor": "#2a3f5f",
           "arrowhead": 0,
           "arrowwidth": 1
          },
          "autotypenumbers": "strict",
          "coloraxis": {
           "colorbar": {
            "outlinewidth": 0,
            "ticks": ""
           }
          },
          "colorscale": {
           "diverging": [
            [
             0,
             "#8e0152"
            ],
            [
             0.1,
             "#c51b7d"
            ],
            [
             0.2,
             "#de77ae"
            ],
            [
             0.3,
             "#f1b6da"
            ],
            [
             0.4,
             "#fde0ef"
            ],
            [
             0.5,
             "#f7f7f7"
            ],
            [
             0.6,
             "#e6f5d0"
            ],
            [
             0.7,
             "#b8e186"
            ],
            [
             0.8,
             "#7fbc41"
            ],
            [
             0.9,
             "#4d9221"
            ],
            [
             1,
             "#276419"
            ]
           ],
           "sequential": [
            [
             0,
             "#0d0887"
            ],
            [
             0.1111111111111111,
             "#46039f"
            ],
            [
             0.2222222222222222,
             "#7201a8"
            ],
            [
             0.3333333333333333,
             "#9c179e"
            ],
            [
             0.4444444444444444,
             "#bd3786"
            ],
            [
             0.5555555555555556,
             "#d8576b"
            ],
            [
             0.6666666666666666,
             "#ed7953"
            ],
            [
             0.7777777777777778,
             "#fb9f3a"
            ],
            [
             0.8888888888888888,
             "#fdca26"
            ],
            [
             1,
             "#f0f921"
            ]
           ],
           "sequentialminus": [
            [
             0,
             "#0d0887"
            ],
            [
             0.1111111111111111,
             "#46039f"
            ],
            [
             0.2222222222222222,
             "#7201a8"
            ],
            [
             0.3333333333333333,
             "#9c179e"
            ],
            [
             0.4444444444444444,
             "#bd3786"
            ],
            [
             0.5555555555555556,
             "#d8576b"
            ],
            [
             0.6666666666666666,
             "#ed7953"
            ],
            [
             0.7777777777777778,
             "#fb9f3a"
            ],
            [
             0.8888888888888888,
             "#fdca26"
            ],
            [
             1,
             "#f0f921"
            ]
           ]
          },
          "colorway": [
           "#636efa",
           "#EF553B",
           "#00cc96",
           "#ab63fa",
           "#FFA15A",
           "#19d3f3",
           "#FF6692",
           "#B6E880",
           "#FF97FF",
           "#FECB52"
          ],
          "font": {
           "color": "#2a3f5f"
          },
          "geo": {
           "bgcolor": "white",
           "lakecolor": "white",
           "landcolor": "#E5ECF6",
           "showlakes": true,
           "showland": true,
           "subunitcolor": "white"
          },
          "hoverlabel": {
           "align": "left"
          },
          "hovermode": "closest",
          "mapbox": {
           "style": "light"
          },
          "paper_bgcolor": "white",
          "plot_bgcolor": "#E5ECF6",
          "polar": {
           "angularaxis": {
            "gridcolor": "white",
            "linecolor": "white",
            "ticks": ""
           },
           "bgcolor": "#E5ECF6",
           "radialaxis": {
            "gridcolor": "white",
            "linecolor": "white",
            "ticks": ""
           }
          },
          "scene": {
           "xaxis": {
            "backgroundcolor": "#E5ECF6",
            "gridcolor": "white",
            "gridwidth": 2,
            "linecolor": "white",
            "showbackground": true,
            "ticks": "",
            "zerolinecolor": "white"
           },
           "yaxis": {
            "backgroundcolor": "#E5ECF6",
            "gridcolor": "white",
            "gridwidth": 2,
            "linecolor": "white",
            "showbackground": true,
            "ticks": "",
            "zerolinecolor": "white"
           },
           "zaxis": {
            "backgroundcolor": "#E5ECF6",
            "gridcolor": "white",
            "gridwidth": 2,
            "linecolor": "white",
            "showbackground": true,
            "ticks": "",
            "zerolinecolor": "white"
           }
          },
          "shapedefaults": {
           "line": {
            "color": "#2a3f5f"
           }
          },
          "ternary": {
           "aaxis": {
            "gridcolor": "white",
            "linecolor": "white",
            "ticks": ""
           },
           "baxis": {
            "gridcolor": "white",
            "linecolor": "white",
            "ticks": ""
           },
           "bgcolor": "#E5ECF6",
           "caxis": {
            "gridcolor": "white",
            "linecolor": "white",
            "ticks": ""
           }
          },
          "title": {
           "x": 0.05
          },
          "xaxis": {
           "automargin": true,
           "gridcolor": "white",
           "linecolor": "white",
           "ticks": "",
           "title": {
            "standoff": 15
           },
           "zerolinecolor": "white",
           "zerolinewidth": 2
          },
          "yaxis": {
           "automargin": true,
           "gridcolor": "white",
           "linecolor": "white",
           "ticks": "",
           "title": {
            "standoff": 15
           },
           "zerolinecolor": "white",
           "zerolinewidth": 2
          }
         }
        },
        "xaxis": {
         "anchor": "y",
         "domain": [
          0,
          1
         ],
         "title": {
          "text": "longitude"
         }
        },
        "yaxis": {
         "anchor": "x",
         "domain": [
          0,
          1
         ],
         "title": {
          "text": "latitude"
         }
        }
       }
      }
     },
     "metadata": {},
     "output_type": "display_data"
    }
   ],
   "source": [
    "df = (\n",
    "    complete\n",
    "        .loc[\n",
    "            (complete['track_id'] == 'AQU')\n",
    "            &\n",
    "            (complete['race_date'] == '2019-01-01')\n",
    "            &\n",
    "            (complete['race_number'] == 8)\n",
    "            &\n",
    "            (complete['trakus_index'].isin([12, 13]))\n",
    "        ]\n",
    ")\n",
    "px.scatter(\n",
    "    df,\n",
    "    x='longitude',\n",
    "    y='latitude',\n",
    "    color='program_number',\n",
    "    hover_data=['trakus_index'],\n",
    "    \n",
    ")"
   ]
  },
  {
   "cell_type": "code",
   "execution_count": 173,
   "metadata": {},
   "outputs": [],
   "source": [
    "aqu8 = aqu8.sort_values(['program_number', 'trakus_index'])"
   ]
  },
  {
   "cell_type": "code",
   "execution_count": 226,
   "metadata": {},
   "outputs": [],
   "source": [
    "l = list(\n",
    "        zip(\n",
    "            list(zip(aqu8['longitude'], aqu8['latitude'])), \n",
    "            list(zip(aqu8['longitude'].shift(-1), aqu8['latitude'].shift(-1)))\n",
    "    )\n",
    ")\n",
    "aqu8['vector_startend'] = l"
   ]
  },
  {
   "cell_type": "code",
   "execution_count": 227,
   "metadata": {},
   "outputs": [
    {
     "data": {
      "application/vnd.plotly.v1+json": {
       "config": {
        "plotlyServerURL": "https://plotly.com"
       },
       "data": [
        {
         "customdata": [
          [
           12
          ]
         ],
         "hovertemplate": "program_number=1  <br>longitude=%{x}<br>latitude=%{y}<br>trakus_index=%{customdata[0]}<extra></extra>",
         "legendgroup": "1  ",
         "marker": {
          "color": "#636efa",
          "symbol": "circle"
         },
         "mode": "markers",
         "name": "1  ",
         "orientation": "v",
         "showlegend": true,
         "type": "scatter",
         "x": [
          -73.8302651610951
         ],
         "xaxis": "x",
         "y": [
          40.6671073313047
         ],
         "yaxis": "y"
        },
        {
         "customdata": [
          [
           12
          ]
         ],
         "hovertemplate": "program_number=2  <br>longitude=%{x}<br>latitude=%{y}<br>trakus_index=%{customdata[0]}<extra></extra>",
         "legendgroup": "2  ",
         "marker": {
          "color": "#EF553B",
          "symbol": "circle"
         },
         "mode": "markers",
         "name": "2  ",
         "orientation": "v",
         "showlegend": true,
         "type": "scatter",
         "x": [
          -73.8302441353679
         ],
         "xaxis": "x",
         "y": [
          40.6671036226205
         ],
         "yaxis": "y"
        },
        {
         "customdata": [
          [
           12
          ]
         ],
         "hovertemplate": "program_number=3  <br>longitude=%{x}<br>latitude=%{y}<br>trakus_index=%{customdata[0]}<extra></extra>",
         "legendgroup": "3  ",
         "marker": {
          "color": "#00cc96",
          "symbol": "circle"
         },
         "mode": "markers",
         "name": "3  ",
         "orientation": "v",
         "showlegend": true,
         "type": "scatter",
         "x": [
          -73.8302294213282
         ],
         "xaxis": "x",
         "y": [
          40.6671259738659
         ],
         "yaxis": "y"
        },
        {
         "customdata": [
          [
           12
          ]
         ],
         "hovertemplate": "program_number=4  <br>longitude=%{x}<br>latitude=%{y}<br>trakus_index=%{customdata[0]}<extra></extra>",
         "legendgroup": "4  ",
         "marker": {
          "color": "#ab63fa",
          "symbol": "circle"
         },
         "mode": "markers",
         "name": "4  ",
         "orientation": "v",
         "showlegend": true,
         "type": "scatter",
         "x": [
          -73.8302226045564
         ],
         "xaxis": "x",
         "y": [
          40.6671213595187
         ],
         "yaxis": "y"
        },
        {
         "customdata": [
          [
           12
          ]
         ],
         "hovertemplate": "program_number=5  <br>longitude=%{x}<br>latitude=%{y}<br>trakus_index=%{customdata[0]}<extra></extra>",
         "legendgroup": "5  ",
         "marker": {
          "color": "#FFA15A",
          "symbol": "circle"
         },
         "mode": "markers",
         "name": "5  ",
         "orientation": "v",
         "showlegend": true,
         "type": "scatter",
         "x": [
          -73.8302164289571
         ],
         "xaxis": "x",
         "y": [
          40.6670896804936
         ],
         "yaxis": "y"
        },
        {
         "customdata": [
          [
           12
          ]
         ],
         "hovertemplate": "program_number=6  <br>longitude=%{x}<br>latitude=%{y}<br>trakus_index=%{customdata[0]}<extra></extra>",
         "legendgroup": "6  ",
         "marker": {
          "color": "#19d3f3",
          "symbol": "circle"
         },
         "mode": "markers",
         "name": "6  ",
         "orientation": "v",
         "showlegend": true,
         "type": "scatter",
         "x": [
          -73.8301327061395
         ],
         "xaxis": "x",
         "y": [
          40.6670938162518
         ],
         "yaxis": "y"
        }
       ],
       "layout": {
        "legend": {
         "title": {
          "text": "program_number"
         },
         "tracegroupgap": 0
        },
        "margin": {
         "t": 60
        },
        "template": {
         "data": {
          "bar": [
           {
            "error_x": {
             "color": "#2a3f5f"
            },
            "error_y": {
             "color": "#2a3f5f"
            },
            "marker": {
             "line": {
              "color": "#E5ECF6",
              "width": 0.5
             },
             "pattern": {
              "fillmode": "overlay",
              "size": 10,
              "solidity": 0.2
             }
            },
            "type": "bar"
           }
          ],
          "barpolar": [
           {
            "marker": {
             "line": {
              "color": "#E5ECF6",
              "width": 0.5
             },
             "pattern": {
              "fillmode": "overlay",
              "size": 10,
              "solidity": 0.2
             }
            },
            "type": "barpolar"
           }
          ],
          "carpet": [
           {
            "aaxis": {
             "endlinecolor": "#2a3f5f",
             "gridcolor": "white",
             "linecolor": "white",
             "minorgridcolor": "white",
             "startlinecolor": "#2a3f5f"
            },
            "baxis": {
             "endlinecolor": "#2a3f5f",
             "gridcolor": "white",
             "linecolor": "white",
             "minorgridcolor": "white",
             "startlinecolor": "#2a3f5f"
            },
            "type": "carpet"
           }
          ],
          "choropleth": [
           {
            "colorbar": {
             "outlinewidth": 0,
             "ticks": ""
            },
            "type": "choropleth"
           }
          ],
          "contour": [
           {
            "colorbar": {
             "outlinewidth": 0,
             "ticks": ""
            },
            "colorscale": [
             [
              0,
              "#0d0887"
             ],
             [
              0.1111111111111111,
              "#46039f"
             ],
             [
              0.2222222222222222,
              "#7201a8"
             ],
             [
              0.3333333333333333,
              "#9c179e"
             ],
             [
              0.4444444444444444,
              "#bd3786"
             ],
             [
              0.5555555555555556,
              "#d8576b"
             ],
             [
              0.6666666666666666,
              "#ed7953"
             ],
             [
              0.7777777777777778,
              "#fb9f3a"
             ],
             [
              0.8888888888888888,
              "#fdca26"
             ],
             [
              1,
              "#f0f921"
             ]
            ],
            "type": "contour"
           }
          ],
          "contourcarpet": [
           {
            "colorbar": {
             "outlinewidth": 0,
             "ticks": ""
            },
            "type": "contourcarpet"
           }
          ],
          "heatmap": [
           {
            "colorbar": {
             "outlinewidth": 0,
             "ticks": ""
            },
            "colorscale": [
             [
              0,
              "#0d0887"
             ],
             [
              0.1111111111111111,
              "#46039f"
             ],
             [
              0.2222222222222222,
              "#7201a8"
             ],
             [
              0.3333333333333333,
              "#9c179e"
             ],
             [
              0.4444444444444444,
              "#bd3786"
             ],
             [
              0.5555555555555556,
              "#d8576b"
             ],
             [
              0.6666666666666666,
              "#ed7953"
             ],
             [
              0.7777777777777778,
              "#fb9f3a"
             ],
             [
              0.8888888888888888,
              "#fdca26"
             ],
             [
              1,
              "#f0f921"
             ]
            ],
            "type": "heatmap"
           }
          ],
          "heatmapgl": [
           {
            "colorbar": {
             "outlinewidth": 0,
             "ticks": ""
            },
            "colorscale": [
             [
              0,
              "#0d0887"
             ],
             [
              0.1111111111111111,
              "#46039f"
             ],
             [
              0.2222222222222222,
              "#7201a8"
             ],
             [
              0.3333333333333333,
              "#9c179e"
             ],
             [
              0.4444444444444444,
              "#bd3786"
             ],
             [
              0.5555555555555556,
              "#d8576b"
             ],
             [
              0.6666666666666666,
              "#ed7953"
             ],
             [
              0.7777777777777778,
              "#fb9f3a"
             ],
             [
              0.8888888888888888,
              "#fdca26"
             ],
             [
              1,
              "#f0f921"
             ]
            ],
            "type": "heatmapgl"
           }
          ],
          "histogram": [
           {
            "marker": {
             "pattern": {
              "fillmode": "overlay",
              "size": 10,
              "solidity": 0.2
             }
            },
            "type": "histogram"
           }
          ],
          "histogram2d": [
           {
            "colorbar": {
             "outlinewidth": 0,
             "ticks": ""
            },
            "colorscale": [
             [
              0,
              "#0d0887"
             ],
             [
              0.1111111111111111,
              "#46039f"
             ],
             [
              0.2222222222222222,
              "#7201a8"
             ],
             [
              0.3333333333333333,
              "#9c179e"
             ],
             [
              0.4444444444444444,
              "#bd3786"
             ],
             [
              0.5555555555555556,
              "#d8576b"
             ],
             [
              0.6666666666666666,
              "#ed7953"
             ],
             [
              0.7777777777777778,
              "#fb9f3a"
             ],
             [
              0.8888888888888888,
              "#fdca26"
             ],
             [
              1,
              "#f0f921"
             ]
            ],
            "type": "histogram2d"
           }
          ],
          "histogram2dcontour": [
           {
            "colorbar": {
             "outlinewidth": 0,
             "ticks": ""
            },
            "colorscale": [
             [
              0,
              "#0d0887"
             ],
             [
              0.1111111111111111,
              "#46039f"
             ],
             [
              0.2222222222222222,
              "#7201a8"
             ],
             [
              0.3333333333333333,
              "#9c179e"
             ],
             [
              0.4444444444444444,
              "#bd3786"
             ],
             [
              0.5555555555555556,
              "#d8576b"
             ],
             [
              0.6666666666666666,
              "#ed7953"
             ],
             [
              0.7777777777777778,
              "#fb9f3a"
             ],
             [
              0.8888888888888888,
              "#fdca26"
             ],
             [
              1,
              "#f0f921"
             ]
            ],
            "type": "histogram2dcontour"
           }
          ],
          "mesh3d": [
           {
            "colorbar": {
             "outlinewidth": 0,
             "ticks": ""
            },
            "type": "mesh3d"
           }
          ],
          "parcoords": [
           {
            "line": {
             "colorbar": {
              "outlinewidth": 0,
              "ticks": ""
             }
            },
            "type": "parcoords"
           }
          ],
          "pie": [
           {
            "automargin": true,
            "type": "pie"
           }
          ],
          "scatter": [
           {
            "fillpattern": {
             "fillmode": "overlay",
             "size": 10,
             "solidity": 0.2
            },
            "type": "scatter"
           }
          ],
          "scatter3d": [
           {
            "line": {
             "colorbar": {
              "outlinewidth": 0,
              "ticks": ""
             }
            },
            "marker": {
             "colorbar": {
              "outlinewidth": 0,
              "ticks": ""
             }
            },
            "type": "scatter3d"
           }
          ],
          "scattercarpet": [
           {
            "marker": {
             "colorbar": {
              "outlinewidth": 0,
              "ticks": ""
             }
            },
            "type": "scattercarpet"
           }
          ],
          "scattergeo": [
           {
            "marker": {
             "colorbar": {
              "outlinewidth": 0,
              "ticks": ""
             }
            },
            "type": "scattergeo"
           }
          ],
          "scattergl": [
           {
            "marker": {
             "colorbar": {
              "outlinewidth": 0,
              "ticks": ""
             }
            },
            "type": "scattergl"
           }
          ],
          "scattermapbox": [
           {
            "marker": {
             "colorbar": {
              "outlinewidth": 0,
              "ticks": ""
             }
            },
            "type": "scattermapbox"
           }
          ],
          "scatterpolar": [
           {
            "marker": {
             "colorbar": {
              "outlinewidth": 0,
              "ticks": ""
             }
            },
            "type": "scatterpolar"
           }
          ],
          "scatterpolargl": [
           {
            "marker": {
             "colorbar": {
              "outlinewidth": 0,
              "ticks": ""
             }
            },
            "type": "scatterpolargl"
           }
          ],
          "scatterternary": [
           {
            "marker": {
             "colorbar": {
              "outlinewidth": 0,
              "ticks": ""
             }
            },
            "type": "scatterternary"
           }
          ],
          "surface": [
           {
            "colorbar": {
             "outlinewidth": 0,
             "ticks": ""
            },
            "colorscale": [
             [
              0,
              "#0d0887"
             ],
             [
              0.1111111111111111,
              "#46039f"
             ],
             [
              0.2222222222222222,
              "#7201a8"
             ],
             [
              0.3333333333333333,
              "#9c179e"
             ],
             [
              0.4444444444444444,
              "#bd3786"
             ],
             [
              0.5555555555555556,
              "#d8576b"
             ],
             [
              0.6666666666666666,
              "#ed7953"
             ],
             [
              0.7777777777777778,
              "#fb9f3a"
             ],
             [
              0.8888888888888888,
              "#fdca26"
             ],
             [
              1,
              "#f0f921"
             ]
            ],
            "type": "surface"
           }
          ],
          "table": [
           {
            "cells": {
             "fill": {
              "color": "#EBF0F8"
             },
             "line": {
              "color": "white"
             }
            },
            "header": {
             "fill": {
              "color": "#C8D4E3"
             },
             "line": {
              "color": "white"
             }
            },
            "type": "table"
           }
          ]
         },
         "layout": {
          "annotationdefaults": {
           "arrowcolor": "#2a3f5f",
           "arrowhead": 0,
           "arrowwidth": 1
          },
          "autotypenumbers": "strict",
          "coloraxis": {
           "colorbar": {
            "outlinewidth": 0,
            "ticks": ""
           }
          },
          "colorscale": {
           "diverging": [
            [
             0,
             "#8e0152"
            ],
            [
             0.1,
             "#c51b7d"
            ],
            [
             0.2,
             "#de77ae"
            ],
            [
             0.3,
             "#f1b6da"
            ],
            [
             0.4,
             "#fde0ef"
            ],
            [
             0.5,
             "#f7f7f7"
            ],
            [
             0.6,
             "#e6f5d0"
            ],
            [
             0.7,
             "#b8e186"
            ],
            [
             0.8,
             "#7fbc41"
            ],
            [
             0.9,
             "#4d9221"
            ],
            [
             1,
             "#276419"
            ]
           ],
           "sequential": [
            [
             0,
             "#0d0887"
            ],
            [
             0.1111111111111111,
             "#46039f"
            ],
            [
             0.2222222222222222,
             "#7201a8"
            ],
            [
             0.3333333333333333,
             "#9c179e"
            ],
            [
             0.4444444444444444,
             "#bd3786"
            ],
            [
             0.5555555555555556,
             "#d8576b"
            ],
            [
             0.6666666666666666,
             "#ed7953"
            ],
            [
             0.7777777777777778,
             "#fb9f3a"
            ],
            [
             0.8888888888888888,
             "#fdca26"
            ],
            [
             1,
             "#f0f921"
            ]
           ],
           "sequentialminus": [
            [
             0,
             "#0d0887"
            ],
            [
             0.1111111111111111,
             "#46039f"
            ],
            [
             0.2222222222222222,
             "#7201a8"
            ],
            [
             0.3333333333333333,
             "#9c179e"
            ],
            [
             0.4444444444444444,
             "#bd3786"
            ],
            [
             0.5555555555555556,
             "#d8576b"
            ],
            [
             0.6666666666666666,
             "#ed7953"
            ],
            [
             0.7777777777777778,
             "#fb9f3a"
            ],
            [
             0.8888888888888888,
             "#fdca26"
            ],
            [
             1,
             "#f0f921"
            ]
           ]
          },
          "colorway": [
           "#636efa",
           "#EF553B",
           "#00cc96",
           "#ab63fa",
           "#FFA15A",
           "#19d3f3",
           "#FF6692",
           "#B6E880",
           "#FF97FF",
           "#FECB52"
          ],
          "font": {
           "color": "#2a3f5f"
          },
          "geo": {
           "bgcolor": "white",
           "lakecolor": "white",
           "landcolor": "#E5ECF6",
           "showlakes": true,
           "showland": true,
           "subunitcolor": "white"
          },
          "hoverlabel": {
           "align": "left"
          },
          "hovermode": "closest",
          "mapbox": {
           "style": "light"
          },
          "paper_bgcolor": "white",
          "plot_bgcolor": "#E5ECF6",
          "polar": {
           "angularaxis": {
            "gridcolor": "white",
            "linecolor": "white",
            "ticks": ""
           },
           "bgcolor": "#E5ECF6",
           "radialaxis": {
            "gridcolor": "white",
            "linecolor": "white",
            "ticks": ""
           }
          },
          "scene": {
           "xaxis": {
            "backgroundcolor": "#E5ECF6",
            "gridcolor": "white",
            "gridwidth": 2,
            "linecolor": "white",
            "showbackground": true,
            "ticks": "",
            "zerolinecolor": "white"
           },
           "yaxis": {
            "backgroundcolor": "#E5ECF6",
            "gridcolor": "white",
            "gridwidth": 2,
            "linecolor": "white",
            "showbackground": true,
            "ticks": "",
            "zerolinecolor": "white"
           },
           "zaxis": {
            "backgroundcolor": "#E5ECF6",
            "gridcolor": "white",
            "gridwidth": 2,
            "linecolor": "white",
            "showbackground": true,
            "ticks": "",
            "zerolinecolor": "white"
           }
          },
          "shapedefaults": {
           "line": {
            "color": "#2a3f5f"
           }
          },
          "ternary": {
           "aaxis": {
            "gridcolor": "white",
            "linecolor": "white",
            "ticks": ""
           },
           "baxis": {
            "gridcolor": "white",
            "linecolor": "white",
            "ticks": ""
           },
           "bgcolor": "#E5ECF6",
           "caxis": {
            "gridcolor": "white",
            "linecolor": "white",
            "ticks": ""
           }
          },
          "title": {
           "x": 0.05
          },
          "xaxis": {
           "automargin": true,
           "gridcolor": "white",
           "linecolor": "white",
           "ticks": "",
           "title": {
            "standoff": 15
           },
           "zerolinecolor": "white",
           "zerolinewidth": 2
          },
          "yaxis": {
           "automargin": true,
           "gridcolor": "white",
           "linecolor": "white",
           "ticks": "",
           "title": {
            "standoff": 15
           },
           "zerolinecolor": "white",
           "zerolinewidth": 2
          }
         }
        },
        "xaxis": {
         "anchor": "y",
         "domain": [
          0,
          1
         ],
         "title": {
          "text": "longitude"
         }
        },
        "yaxis": {
         "anchor": "x",
         "domain": [
          0,
          1
         ],
         "title": {
          "text": "latitude"
         }
        }
       }
      }
     },
     "metadata": {},
     "output_type": "display_data"
    }
   ],
   "source": [
    "# for now, set df as the 12th trakus of aqu8\n",
    "df = aqu8[aqu8['trakus_index'] == 12].reset_index(drop=True)\n",
    "px.scatter(\n",
    "    df,\n",
    "    x='longitude',\n",
    "    y='latitude',\n",
    "    color='program_number',\n",
    "    hover_data=['trakus_index'],\n",
    "    \n",
    ")"
   ]
  },
  {
   "cell_type": "code",
   "execution_count": 228,
   "metadata": {},
   "outputs": [
    {
     "name": "stdout",
     "output_type": "stream",
     "text": [
      "((-73.8302651610951, 40.6671073313047), (-73.8302516496949, 40.6671389865046))\n",
      "((-73.8302441353679, 40.6671036226205), (-73.8302283013935, 40.6671358757166))\n",
      "[ 2.10257272e-05 -3.70868420e-06]\n"
     ]
    }
   ],
   "source": [
    "# the vector column is a collection of position pairs:\n",
    "# (0) the starting position of the current trakus\n",
    "# (1) the starting position of the next trakus\n",
    "print(df.loc[0, 'vector_startend'])\n",
    "print(df.loc[1, 'vector_startend'])\n",
    "print(np.array(df.loc[1, 'vector_startend'][0]) - np.array(df.loc[0, 'vector_startend'][0]))"
   ]
  },
  {
   "cell_type": "code",
   "execution_count": 241,
   "metadata": {},
   "outputs": [],
   "source": [
    "def unit_vectorize(position_pair):\n",
    "    distance = [position_pair[1][0] - position_pair[0][0], position_pair[1][1] - position_pair[0][1]]\n",
    "    norm = np.sqrt(distance[0] ** 2 + distance[1] ** 2)\n",
    "    direction = [distance[0] / norm, distance[1] / norm]\n",
    "    return direction\n",
    "\n",
    "def get_relative_position(reference_startend, position_to_transform, pos_from_startend=False, print_components=False):\n",
    "    unit_vector = unit_vectorize(reference_startend)\n",
    "    orthogonal_basis = [unit_vector[1], -unit_vector[0]]\n",
    "    linear_transformation = np.array([[orthogonal_basis[0],unit_vector[0]], [orthogonal_basis[1],unit_vector[1]]])\n",
    "    if pos_from_startend:\n",
    "        relative_pretransform = np.array(position_to_transform[0]) - np.array(reference_startend[0])\n",
    "    else:\n",
    "        relative_pretransform = np.array(position_to_transform) - np.array(reference_startend[0])\n",
    "    # relative_position = np.matmul(relative_pretransform, linear_transformation)\n",
    "    # relative_position = np.matmul(linear_transformation, relative_pretransform)\n",
    "    relative_position = np.matmul(np.linalg.inv(linear_transformation), relative_pretransform)\n",
    "    if print_components:\n",
    "        print(\"unit vector:\", unit_vector)\n",
    "        print(\"orthogonal basis:\", orthogonal_basis)\n",
    "        print(\"linear transformation:\\n\", linear_transformation)\n",
    "        print(\"relative pretransform\", relative_pretransform)\n",
    "\n",
    "\n",
    "    return relative_position\n"
   ]
  },
  {
   "cell_type": "code",
   "execution_count": 239,
   "metadata": {},
   "outputs": [
    {
     "name": "stdout",
     "output_type": "stream",
     "text": [
      "unit vector: [0.0, 1.0]\n",
      "orthogonal basis: [1.0, -0.0]\n",
      "linear transformation:\n",
      " [[ 1.  0.]\n",
      " [-0.  1.]]\n",
      "relative pretransform [ 0 -1]\n"
     ]
    },
    {
     "data": {
      "text/plain": [
       "array([ 0., -1.])"
      ]
     },
     "execution_count": 239,
     "metadata": {},
     "output_type": "execute_result"
    }
   ],
   "source": [
    "# here's a test case.\n",
    "\n",
    "get_relative_position(\n",
    "    reference_startend=((1, -2), (1, 5)),\n",
    "    position_to_transform=[(1,-3), (-2, 3)],\n",
    "    pos_from_startend=True,\n",
    "    print_components=True\n",
    ")\n",
    "\n"
   ]
  },
  {
   "cell_type": "code",
   "execution_count": 252,
   "metadata": {},
   "outputs": [
    {
     "name": "stdout",
     "output_type": "stream",
     "text": [
      "unit vector: [0.3925660434211893, 0.9197238180848819]\n",
      "orthogonal basis: [0.9197238180848819, -0.3925660434211893]\n",
      "linear transformation:\n",
      " [[ 0.91972382  0.39256604]\n",
      " [-0.39256604  0.91972382]]\n",
      "relative pretransform [ 2.10257272e-05 -3.70868420e-06]\n"
     ]
    },
    {
     "data": {
      "text/plain": [
       "array([2.07937656e-05, 4.84302134e-06])"
      ]
     },
     "execution_count": 252,
     "metadata": {},
     "output_type": "execute_result"
    }
   ],
   "source": [
    "get_relative_position(\n",
    "    reference_startend=[(-73.8302651610951, 40.6671073313047), (-73.8302516496949, 40.6671389865046)],\n",
    "    position_to_transform=[(-73.8302441353679, 40.6671036226205), (-73.8302283013935, 40.6671358757166)],\n",
    "    pos_from_startend=True,\n",
    "    print_components=True\n",
    ")"
   ]
  },
  {
   "cell_type": "code",
   "execution_count": 247,
   "metadata": {},
   "outputs": [],
   "source": [
    "from itertools import product, permutations, combinations\n",
    "\n",
    "def get_relative_positions_simple(reference_startend, positions_list):\n",
    "    return [get_relative_position(reference_startend, pos) for pos in positions_list]\n",
    "\n",
    "def get_relative_positions(positions_list):\n",
    "    #return [print(res, trans) for (res, trans) in product(positions_list, positions_list)]\n",
    "    return [[get_relative_position(ref, trans)[0] for trans in positions_list] for ref in positions_list]\n",
    "    # return [get_relative_position(ref, trans)[0] for (ref, trans) in product(positions_list, positions_list)]\n"
   ]
  },
  {
   "cell_type": "code",
   "execution_count": 249,
   "metadata": {},
   "outputs": [
    {
     "data": {
      "text/html": [
       "<div>\n",
       "<style scoped>\n",
       "    .dataframe tbody tr th:only-of-type {\n",
       "        vertical-align: middle;\n",
       "    }\n",
       "\n",
       "    .dataframe tbody tr th {\n",
       "        vertical-align: top;\n",
       "    }\n",
       "\n",
       "    .dataframe thead th {\n",
       "        text-align: right;\n",
       "    }\n",
       "</style>\n",
       "<table border=\"1\" class=\"dataframe\">\n",
       "  <thead>\n",
       "    <tr style=\"text-align: right;\">\n",
       "      <th></th>\n",
       "      <th>track_id</th>\n",
       "      <th>race_date</th>\n",
       "      <th>race_number</th>\n",
       "      <th>program_number</th>\n",
       "      <th>trakus_index</th>\n",
       "      <th>latitude</th>\n",
       "      <th>longitude</th>\n",
       "      <th>distance_id</th>\n",
       "      <th>course_type</th>\n",
       "      <th>track_condition</th>\n",
       "      <th>...</th>\n",
       "      <th>odds</th>\n",
       "      <th>position_at_finish</th>\n",
       "      <th>segment_distance</th>\n",
       "      <th>segment_angle</th>\n",
       "      <th>segment_speed</th>\n",
       "      <th>segment_acceleration</th>\n",
       "      <th>initial_projected_position</th>\n",
       "      <th>actual_vs_initial_projected_finish</th>\n",
       "      <th>vectors</th>\n",
       "      <th>vector_startend</th>\n",
       "    </tr>\n",
       "  </thead>\n",
       "  <tbody>\n",
       "    <tr>\n",
       "      <th>0</th>\n",
       "      <td>AQU</td>\n",
       "      <td>2019-01-01</td>\n",
       "      <td>8</td>\n",
       "      <td>1</td>\n",
       "      <td>12</td>\n",
       "      <td>40.667107</td>\n",
       "      <td>-73.830265</td>\n",
       "      <td>800</td>\n",
       "      <td>D</td>\n",
       "      <td>GD</td>\n",
       "      <td>...</td>\n",
       "      <td>540</td>\n",
       "      <td>6</td>\n",
       "      <td>3.696</td>\n",
       "      <td>4.061762e-07</td>\n",
       "      <td>14.784</td>\n",
       "      <td>0.300</td>\n",
       "      <td>4</td>\n",
       "      <td>-2.0</td>\n",
       "      <td>((40.6671073313047, -73.8302651610951), (40.66...</td>\n",
       "      <td>((-73.8302651610951, 40.6671073313047), (-73.8...</td>\n",
       "    </tr>\n",
       "    <tr>\n",
       "      <th>1</th>\n",
       "      <td>AQU</td>\n",
       "      <td>2019-01-01</td>\n",
       "      <td>8</td>\n",
       "      <td>2</td>\n",
       "      <td>12</td>\n",
       "      <td>40.667104</td>\n",
       "      <td>-73.830244</td>\n",
       "      <td>800</td>\n",
       "      <td>D</td>\n",
       "      <td>GD</td>\n",
       "      <td>...</td>\n",
       "      <td>420</td>\n",
       "      <td>3</td>\n",
       "      <td>3.824</td>\n",
       "      <td>4.256623e-07</td>\n",
       "      <td>15.296</td>\n",
       "      <td>0.320</td>\n",
       "      <td>3</td>\n",
       "      <td>0.0</td>\n",
       "      <td>((40.6671036226205, -73.8302441353679), (40.66...</td>\n",
       "      <td>((-73.8302441353679, 40.6671036226205), (-73.8...</td>\n",
       "    </tr>\n",
       "    <tr>\n",
       "      <th>2</th>\n",
       "      <td>AQU</td>\n",
       "      <td>2019-01-01</td>\n",
       "      <td>8</td>\n",
       "      <td>3</td>\n",
       "      <td>12</td>\n",
       "      <td>40.667126</td>\n",
       "      <td>-73.830229</td>\n",
       "      <td>800</td>\n",
       "      <td>D</td>\n",
       "      <td>GD</td>\n",
       "      <td>...</td>\n",
       "      <td>150</td>\n",
       "      <td>1</td>\n",
       "      <td>4.005</td>\n",
       "      <td>4.407823e-07</td>\n",
       "      <td>16.020</td>\n",
       "      <td>0.280</td>\n",
       "      <td>1</td>\n",
       "      <td>0.0</td>\n",
       "      <td>((40.6671259738659, -73.8302294213282), (40.66...</td>\n",
       "      <td>((-73.8302294213282, 40.6671259738659), (-73.8...</td>\n",
       "    </tr>\n",
       "    <tr>\n",
       "      <th>3</th>\n",
       "      <td>AQU</td>\n",
       "      <td>2019-01-01</td>\n",
       "      <td>8</td>\n",
       "      <td>4</td>\n",
       "      <td>12</td>\n",
       "      <td>40.667121</td>\n",
       "      <td>-73.830223</td>\n",
       "      <td>800</td>\n",
       "      <td>D</td>\n",
       "      <td>GD</td>\n",
       "      <td>...</td>\n",
       "      <td>900</td>\n",
       "      <td>2</td>\n",
       "      <td>4.030</td>\n",
       "      <td>4.480271e-07</td>\n",
       "      <td>16.120</td>\n",
       "      <td>0.900</td>\n",
       "      <td>5</td>\n",
       "      <td>3.0</td>\n",
       "      <td>((40.6671213595187, -73.8302226045564), (40.66...</td>\n",
       "      <td>((-73.8302226045564, 40.6671213595187), (-73.8...</td>\n",
       "    </tr>\n",
       "    <tr>\n",
       "      <th>4</th>\n",
       "      <td>AQU</td>\n",
       "      <td>2019-01-01</td>\n",
       "      <td>8</td>\n",
       "      <td>5</td>\n",
       "      <td>12</td>\n",
       "      <td>40.667090</td>\n",
       "      <td>-73.830216</td>\n",
       "      <td>800</td>\n",
       "      <td>D</td>\n",
       "      <td>GD</td>\n",
       "      <td>...</td>\n",
       "      <td>1400</td>\n",
       "      <td>4</td>\n",
       "      <td>3.757</td>\n",
       "      <td>4.145631e-07</td>\n",
       "      <td>15.028</td>\n",
       "      <td>1.200</td>\n",
       "      <td>6</td>\n",
       "      <td>2.0</td>\n",
       "      <td>((40.6670896804936, -73.8302164289571), (40.66...</td>\n",
       "      <td>((-73.8302164289571, 40.6670896804936), (-73.8...</td>\n",
       "    </tr>\n",
       "    <tr>\n",
       "      <th>5</th>\n",
       "      <td>AQU</td>\n",
       "      <td>2019-01-01</td>\n",
       "      <td>8</td>\n",
       "      <td>6</td>\n",
       "      <td>12</td>\n",
       "      <td>40.667094</td>\n",
       "      <td>-73.830133</td>\n",
       "      <td>800</td>\n",
       "      <td>D</td>\n",
       "      <td>GD</td>\n",
       "      <td>...</td>\n",
       "      <td>245</td>\n",
       "      <td>5</td>\n",
       "      <td>3.969</td>\n",
       "      <td>4.099851e-07</td>\n",
       "      <td>15.876</td>\n",
       "      <td>0.172</td>\n",
       "      <td>2</td>\n",
       "      <td>-3.0</td>\n",
       "      <td>((40.6670938162518, -73.8301327061395), (40.66...</td>\n",
       "      <td>((-73.8301327061395, 40.6670938162518), (-73.8...</td>\n",
       "    </tr>\n",
       "  </tbody>\n",
       "</table>\n",
       "<p>6 rows × 26 columns</p>\n",
       "</div>"
      ],
      "text/plain": [
       "  track_id   race_date  race_number program_number  trakus_index   latitude  \\\n",
       "0      AQU  2019-01-01            8            1              12  40.667107   \n",
       "1      AQU  2019-01-01            8            2              12  40.667104   \n",
       "2      AQU  2019-01-01            8            3              12  40.667126   \n",
       "3      AQU  2019-01-01            8            4              12  40.667121   \n",
       "4      AQU  2019-01-01            8            5              12  40.667090   \n",
       "5      AQU  2019-01-01            8            6              12  40.667094   \n",
       "\n",
       "   longitude  distance_id course_type track_condition  ...  odds  \\\n",
       "0 -73.830265          800           D             GD   ...   540   \n",
       "1 -73.830244          800           D             GD   ...   420   \n",
       "2 -73.830229          800           D             GD   ...   150   \n",
       "3 -73.830223          800           D             GD   ...   900   \n",
       "4 -73.830216          800           D             GD   ...  1400   \n",
       "5 -73.830133          800           D             GD   ...   245   \n",
       "\n",
       "  position_at_finish  segment_distance segment_angle  segment_speed  \\\n",
       "0                  6             3.696  4.061762e-07         14.784   \n",
       "1                  3             3.824  4.256623e-07         15.296   \n",
       "2                  1             4.005  4.407823e-07         16.020   \n",
       "3                  2             4.030  4.480271e-07         16.120   \n",
       "4                  4             3.757  4.145631e-07         15.028   \n",
       "5                  5             3.969  4.099851e-07         15.876   \n",
       "\n",
       "  segment_acceleration  initial_projected_position  \\\n",
       "0                0.300                           4   \n",
       "1                0.320                           3   \n",
       "2                0.280                           1   \n",
       "3                0.900                           5   \n",
       "4                1.200                           6   \n",
       "5                0.172                           2   \n",
       "\n",
       "   actual_vs_initial_projected_finish  \\\n",
       "0                                -2.0   \n",
       "1                                 0.0   \n",
       "2                                 0.0   \n",
       "3                                 3.0   \n",
       "4                                 2.0   \n",
       "5                                -3.0   \n",
       "\n",
       "                                             vectors  \\\n",
       "0  ((40.6671073313047, -73.8302651610951), (40.66...   \n",
       "1  ((40.6671036226205, -73.8302441353679), (40.66...   \n",
       "2  ((40.6671259738659, -73.8302294213282), (40.66...   \n",
       "3  ((40.6671213595187, -73.8302226045564), (40.66...   \n",
       "4  ((40.6670896804936, -73.8302164289571), (40.66...   \n",
       "5  ((40.6670938162518, -73.8301327061395), (40.66...   \n",
       "\n",
       "                                     vector_startend  \n",
       "0  ((-73.8302651610951, 40.6671073313047), (-73.8...  \n",
       "1  ((-73.8302441353679, 40.6671036226205), (-73.8...  \n",
       "2  ((-73.8302294213282, 40.6671259738659), (-73.8...  \n",
       "3  ((-73.8302226045564, 40.6671213595187), (-73.8...  \n",
       "4  ((-73.8302164289571, 40.6670896804936), (-73.8...  \n",
       "5  ((-73.8301327061395, 40.6670938162518), (-73.8...  \n",
       "\n",
       "[6 rows x 26 columns]"
      ]
     },
     "execution_count": 249,
     "metadata": {},
     "output_type": "execute_result"
    }
   ],
   "source": [
    "df.head(6)"
   ]
  },
  {
   "cell_type": "code",
   "execution_count": 251,
   "metadata": {},
   "outputs": [
    {
     "data": {
      "text/plain": [
       "[[array([-5.30411692e-06, -1.24267566e-05]),\n",
       "  array([ 4.86799488e-06, -1.46165320e-05]),\n",
       "  array([ 1.30626349e-05, -3.63058534e-06]),\n",
       "  array([ 1.60116761e-05, -5.98716953e-06]),\n",
       "  array([ 2.01377661e-05, -2.18936574e-05]),\n",
       "  array([ 6.68927819e-05, -2.09772326e-05])],\n",
       " [array([-1.55624973e-05, -1.22552806e-05]),\n",
       "  array([-6.97783398e-06, -1.42135350e-05]),\n",
       "  array([ 2.3779977e-07, -4.8939614e-06]),\n",
       "  array([ 2.6294078e-06, -6.9173848e-06]),\n",
       "  array([ 6.42878221e-06, -2.05032410e-05]),\n",
       "  array([ 4.76288924e-05, -2.00319982e-05])],\n",
       " [array([-2.40720115e-05, -2.22640631e-05]),\n",
       "  array([-1.39624822e-05, -2.44447490e-05]),\n",
       "  array([-5.80633505e-06, -1.35244797e-05]),\n",
       "  array([-2.87930299e-06, -1.58679415e-05]),\n",
       "  array([ 1.23401557e-06, -3.16829978e-05]),\n",
       "  array([ 4.77706357e-05, -3.07842272e-05])],\n",
       " [array([-2.58000731e-05, -2.02738188e-05]),\n",
       "  array([-1.69463311e-05, -2.22714556e-05]),\n",
       "  array([-9.56437485e-06, -1.26693648e-05]),\n",
       "  array([-7.07840199e-06, -1.47493037e-05]),\n",
       "  array([-3.22324904e-06, -2.87287194e-05]),\n",
       "  array([ 3.89206299e-05, -2.81823966e-05])],\n",
       " [array([-3.03768655e-05, -3.74532684e-06]),\n",
       "  array([-2.05600695e-05, -5.88345417e-06]),\n",
       "  array([-1.25840885e-05,  4.72958665e-06]),\n",
       "  array([-9.75996897e-06,  2.44751897e-06]),\n",
       "  array([-5.70650977e-06, -1.29397997e-05]),\n",
       "  array([ 3.98078923e-05, -1.21234929e-05])],\n",
       " [array([-1.04955916e-04,  3.86918712e-06]),\n",
       "  array([-8.92203628e-05,  8.84997865e-07]),\n",
       "  array([-7.76408630e-05,  1.77035784e-05]),\n",
       "  array([-7.27232361e-05,  1.41847173e-05]),\n",
       "  array([-6.75010075e-05, -9.82983538e-06]),\n",
       "  array([-1.54642955e-06, -7.30663959e-06])]]"
      ]
     },
     "execution_count": 251,
     "metadata": {},
     "output_type": "execute_result"
    }
   ],
   "source": [
    "get_relative_positions(\n",
    "    df['vector_startend']\n",
    ")"
   ]
  },
  {
   "cell_type": "markdown",
   "metadata": {},
   "source": [
    "1. Scale reference vector to unit vector [a, b].\n",
    "2. Use [b, -a] as orthogonal basis.\n",
    "3. Create linear transformation [[b,a], [-a,b]].\n",
    "4. Use np.matmul(lintrans, pos_vector) where the position vector is the other horse's position at the start of the trakus_index."
   ]
  }
 ],
 "metadata": {
  "kernelspec": {
   "display_name": "Python 3.10.4 ('bigderby')",
   "language": "python",
   "name": "python3"
  },
  "language_info": {
   "codemirror_mode": {
    "name": "ipython",
    "version": 3
   },
   "file_extension": ".py",
   "mimetype": "text/x-python",
   "name": "python",
   "nbconvert_exporter": "python",
   "pygments_lexer": "ipython3",
   "version": "3.10.4"
  },
  "orig_nbformat": 4,
  "vscode": {
   "interpreter": {
    "hash": "6dc244d8c637bff0d3ac5fae0733af5c1a0663498297bf28636b71ed25b41a95"
   }
  }
 },
 "nbformat": 4,
 "nbformat_minor": 2
}
